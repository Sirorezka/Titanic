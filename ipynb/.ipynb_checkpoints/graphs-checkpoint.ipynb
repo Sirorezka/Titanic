{
 "cells": [
  {
   "cell_type": "markdown",
   "metadata": {},
   "source": [
    "# Creating graphs for Titanic data"
   ]
  },
  {
   "cell_type": "markdown",
   "metadata": {},
   "source": [
    "First set up  the directory with the data"
   ]
  },
  {
   "cell_type": "code",
   "execution_count": 2,
   "metadata": {
    "collapsed": false
   },
   "outputs": [],
   "source": [
    "#%matplotlib notebook\n",
    "%matplotlib inline\n",
    "\n",
    "import csv as csv\n",
    "import numpy as np\n",
    "import plotly\n",
    "import  matplotlib.mlab  as mlab\n",
    "import matplotlib.pyplot as plt\n",
    "import matplotlib.pylab as pl\n",
    "\n",
    "my_project_dir = \"C:\\\\Users\\Johnny\\Documents\\GitHub\\Titanic\\kaggle_data\\\\\"\n"
   ]
  },
  {
   "cell_type": "markdown",
   "metadata": {},
   "source": [
    "Load and preview the data"
   ]
  },
  {
   "cell_type": "code",
   "execution_count": 3,
   "metadata": {
    "collapsed": false,
    "scrolled": true
   },
   "outputs": [
    {
     "name": "stdout",
     "output_type": "stream",
     "text": [
      "['PassengerId', 'Survived', 'Pclass', 'Name', 'Sex', 'Age', 'SibSp', 'Parch', 'Ticket', 'Fare', 'Cabin', 'Embarked']\n",
      "[['1' '0' '3' 'Braund, Mr. Owen Harris' 'male' '22' '1' '0' 'A/5 21171'\n",
      "  '7.25' '' 'S']\n",
      " ['2' '1' '1' 'Cumings, Mrs. John Bradley (Florence Briggs Thayer)'\n",
      "  'female' '38' '1' '0' 'PC 17599' '71.2833' 'C85' 'C']]\n"
     ]
    }
   ],
   "source": [
    "csv_file_object = csv.reader(open(my_project_dir + 'train.csv', 'r'))       # Load in the csv file\n",
    "header = next(csv_file_object)                     # Skip the fist line as it is a header\n",
    "data=[]                                            # Create a variable to hold the data\n",
    "\n",
    "for row in csv_file_object:                        # Skip through each row in the csv file,\n",
    "    data.append(row[0:])                           # adding each row to the data variable\n",
    "    \n",
    "\n",
    "data = np.array(data)                              # importing data as np array\n",
    "print (header[:])\n",
    "print (data[0:2,:])\n"
   ]
  },
  {
   "cell_type": "code",
   "execution_count": 4,
   "metadata": {
    "collapsed": false
   },
   "outputs": [],
   "source": [
    "def sum_groups (arr_groups,arr_data):\n",
    "    unique_groups = np.unique(arr_groups)\n",
    "    arr_sums = []\n",
    "    for group in unique_groups:\n",
    "        arr_sums.append(arr_data[arr_groups == group].sum())\n",
    "    \n",
    "    return unique_groups,arr_sums"
   ]
  },
  {
   "cell_type": "code",
   "execution_count": 5,
   "metadata": {
    "collapsed": false
   },
   "outputs": [
    {
     "data": {
      "image/png": "[encoded data removed]",
      "text/plain": [
       "<matplotlib.figure.Figure at 0x5eea780>"
      ]
     },
     "metadata": {},
     "output_type": "display_data"
    }
   ],
   "source": [
    "X = data[:,1].astype(np.float)\n",
    "\n",
    "X_weights = np.ones_like(X)/float(len(X))   \n",
    "\n",
    "\n",
    "n, bins, patches = plt.hist(X, 4, weights = X_weights,  facecolor='g', alpha=0.75)\n",
    "plt.title('Number of Survived and dead \\n 1 - survived, 0 - dead')\n",
    "plt.show()\n",
    "\n",
    "#print (n,bins, patches[:])\n",
    "\n"
   ]
  },
  {
   "cell_type": "code",
   "execution_count": 6,
   "metadata": {
    "collapsed": false
   },
   "outputs": [
    {
     "data": {
      "image/png": "[encoded data removed]",
      "text/plain": [
       "<matplotlib.figure.Figure at 0xaea3860>"
      ]
     },
     "metadata": {},
     "output_type": "display_data"
    }
   ],
   "source": [
    "# Selecting data\n",
    "y_class = data[:,1].astype(np.integer)\n",
    "X = np.ones_like(y_class)\n",
    "y_groups, X_data = sum_groups (y_class, X)\n",
    "X_data = X_data/sum(X_data)\n",
    "#print ([X_data[0]],X_data[1])\n",
    "\n",
    "# Plotting the data\n",
    "width = 0.35\n",
    "ind = np.arange(len(y_groups))\n",
    "\n",
    "fig, ax = plt.subplots()\n",
    "ax.bar(ind,X_data, width)\n",
    "pl.xticks(ind + width/2,['Dead', 'Survived'])\n",
    "plt.title('Number of Survived and dead')\n",
    "pl.show()\n",
    "\n",
    "\n",
    "#rects1 = plt.bar(index, means_men)\n",
    "\n",
    "#data2 = [[np.random.rand(100)] for i in range(3)]\n",
    "#pl.boxplot(data2)\n",
    "#pl.xticks([1, 2, 3], ['mon', 'tue', 'wed'])\n",
    "#pl.show()"
   ]
  },
  {
   "cell_type": "code",
   "execution_count": 9,
   "metadata": {
    "collapsed": false
   },
   "outputs": [
    {
     "name": "stdout",
     "output_type": "stream",
     "text": [
      "['PassengerId', 'Survived', 'Pclass', 'Name', 'Sex', 'Age', 'SibSp', 'Parch', 'Ticket', 'Fare', 'Cabin', 'Embarked']\n",
      "['Mr.', 'Mrs.', 'Miss.', 'Mrs.', 'Mr.', 'Mr.', 'Mr.', 'Master.', 'Mrs.', 'Mrs.', 'Miss.', 'Miss.', 'Mr.', 'Mr.', 'Miss.', 'Mrs.', 'Master.', 'Mr.', 'Mrs.', 'Mrs.', 'Mr.', 'Mr.', 'Miss.', 'Mr.', 'Miss.', 'Mrs.', 'Mr.', 'Mr.', 'Miss.', 'Mr.', 'Don.', 'Mrs.', 'Miss.', 'Mr.', 'Mr.', 'Mr.', 'Mr.', 'Mr.', 'Miss.', 'Miss.', 'Mrs.', 'Mrs.', 'Mr.', 'Miss.', 'Miss.', 'Mr.', 'Mr.', 'Miss.', 'Mr.', 'Mrs.', 'Master.', 'Mr.', 'Mrs.', 'Mrs.', 'Mr.', 'Mr.', 'Miss.', 'Mr.', 'Miss.', 'Master.', 'Mr.', 'Miss.', 'Mr.', 'Master.', 'Mr.', 'Master.', 'Mrs.', 'Mr.', 'Miss.', 'Mr.', 'Mr.', 'Miss.', 'Mr.', 'Mr.', 'Mr.', 'Mr.', 'Mr.', 'Mr.', 'Master.', 'Miss.', 'Mr.', 'Mr.', 'Miss.', 'Mr.', 'Miss.', 'Mrs.', 'Mr.', 'Mr.', 'Miss.', 'Mr.', 'Mr.', 'Mr.', 'Mr.', 'Mr.', 'Mr.', 'Mr.', 'Mr.', 'Mr.', 'Mrs.', 'Mr.', 'Miss.', 'Mr.', 'Mr.', 'Mr.', 'Mr.', 'Mr.', 'Miss.', 'Mr.', 'Mr.', 'Miss.', 'Mr.', 'Miss.', 'Mr.', 'Miss.', 'Miss.', 'Mr.', 'Mr.', 'Mr.', 'Mr.', 'Miss.', 'Mr.', 'Mr.', 'Mr.', 'Miss.', 'Mr.', 'Master.', 'Mr.', 'Mr.', 'Miss.', 'Mr.', 'Mr.', 'Mr.', 'Mrs.', 'Mrs.', 'Mr.', 'Mr.', 'Miss.', 'Mr.', 'Mr.', 'Mr.', 'Mrs.', 'Miss.', 'Mrs.', 'Mr.', 'Mr.', 'Mr.', 'Mr.', 'Miss.', 'Mr.', 'Rev.', 'Rev.', 'Mrs.', 'Mr.', 'Mr.', 'Mr.', 'Mr.', 'Miss.', 'Mr.', 'Mr.', 'Master.', 'Mr.', 'Mrs.', 'Mr.', 'Mr.', 'Master.', 'Master.', 'Mrs.', 'Mrs.', 'Mr.', 'Mr.', 'Mr.', 'Master.', 'Miss.', 'Mr.', 'Mr.', 'Mr.', 'Master.', 'Miss.', 'Mr.', 'Mr.', 'Miss.', 'Mr.', 'Master.', 'Master.', 'Miss.', 'Mr.', 'Mrs.', 'Mr.', 'Mr.', 'Mr.', 'Mrs.', 'Mr.', 'Miss.', 'Master.', 'Mrs.', 'Miss.', 'Mr.', 'Mr.', 'Miss.', 'Miss.', 'Mr.', 'Mr.', 'Mr.', 'Mr.', 'Mr.', 'Miss.', 'Mr.', 'Mr.', 'Miss.', 'Mr.', 'Mr.', 'Miss.', 'Mr.', 'Mr.', 'Mr.', 'Miss.', 'Miss.', 'Mr.', 'Miss.', 'Mr.', 'Mr.', 'Mr.', 'Mr.', 'Mr.', 'Mr.', 'Mr.', 'Mr.', 'Mr.', 'Mr.', 'Miss.', 'Mrs.', 'Mr.', 'Mr.', 'Miss.', 'Mr.', 'Miss.', 'Mr.', 'Miss.', 'Mr.', 'Mr.', 'Miss.', 'Miss.', 'Mr.', 'Mr.', 'Mr.', 'Dr.', 'Miss.', 'Mrs.', 'Mr.', 'Rev.', 'Mr.', 'Mrs.', 'Mr.', 'Mr.', 'Mrs.', 'Mrs.', 'Mrs.', 'Miss.', 'Miss.', 'Mrs.', 'Mr.', 'Master.', 'Mr.', 'Mr.', 'Miss.', 'Mr.', 'Mr.', 'Mr.', 'Mrs.', 'Miss.', 'Mr.', 'Mr.', 'Mrs.', 'Mr.', 'Miss.', 'Miss.', 'Miss.', 'Mr.', 'Master.', 'Mrs.', 'Mr.', 'Mr.', 'Mr.', 'Mr.', 'Mr.', 'Mr.', 'Mr.', 'Mr.', 'Mr.', 'Miss.', 'Miss.', 'Mrs.', 'Mr.', 'Miss.', 'Mr.', 'Mr.', 'Mr.', 'Miss.', 'Mr.', 'Mrs.', 'Miss.', 'Mr.', 'Mr.', 'Miss.', 'Mr.', 'Master.', 'Miss.', 'Mrs.', 'Mr.', 'Miss.', 'Miss.', 'Miss.', 'Mrs.', 'Mr.', 'Mr.', 'Miss.', 'Mrs.', 'Dr.', 'Miss.', 'Mrs.', 'Mr.', 'Mr.', 'Miss.', 'Mrs.', 'Mr.', 'Miss.', 'Mr.', 'Mrs.', 'Mrs.', 'Miss.', 'Miss.', 'Mr.', 'Mr.', 'Mr.', 'Mrs.', 'Mr.', 'Mr.', 'Miss.', 'Mr.', 'Mr.', 'Master.', 'Miss.', 'Mr.', 'Mr.', 'Mr.', 'Miss.', 'Miss.', 'Mrs.', 'Master.', 'Mr.', 'Mr.', 'Mr.', 'Mr.', 'Mr.', 'Mr.', 'Mr.', 'Miss.', 'Miss.', 'Miss.', 'Miss.', 'Mr.', 'Mr.', 'Mrs.', 'Mr.', 'Mr.', 'Mr.', 'Mrs.', 'Mrs.', 'Miss.', 'Mme.', 'Mr.', 'Mr.', 'Mr.', 'Mr.', 'Miss.', 'Mrs.', 'Miss.', 'Mr.', 'Mr.', 'Mr.', 'Miss.', 'Miss.', 'Mr.', 'Mrs.', 'Mr.', 'Mr.', 'Master.', 'Miss.', 'Mr.', 'Miss.', 'Mr.', 'Mr.', 'Mr.', 'Miss.', 'Mrs.', 'Mr.', 'Miss.', 'Mr.', 'Dr.', 'Mrs.', 'Mr.', 'Mr.', 'Miss.', 'Mr.', 'Miss.', 'Mr.', 'Mr.', 'Master.', 'Mr.', 'Miss.', 'Mr.', 'Mr.', 'Miss.', 'Mr.', 'Mr.', 'Mrs.', 'Mrs.', 'Miss.', 'Mr.', 'Miss.', 'Mr.', 'Mr.', 'Mr.', 'Mrs.', 'Mr.', 'Mr.', 'Mrs.', 'Miss.', 'Mr.', 'Mr.', 'Mr.', 'Mrs.', 'Mrs.', 'Mr.', 'Mr.', 'Miss.', 'Miss.', 'Mrs.', 'Mr.', 'Mr.', 'Mrs.', 'Mr.', 'Mr.', 'Ms.', 'Mr.', 'Master.', 'Miss.', 'Mr.', 'Miss.', 'Major.', 'Mr.', 'Mr.', 'Mr.', 'Mr.', 'Mr.', 'Mr.', 'Mr.', 'Mrs.', 'Miss.', 'Mr.', 'Mr.', 'Mr.', 'Mr.', 'Mr.', 'Mr.', 'Mr.', 'Mr.', 'Mr.', 'Mr.', 'Miss.', 'Mr.', 'Mr.', 'Mrs.', 'Mrs.', 'Miss.', 'Mr.', 'Mr.', 'Mr.', 'Mr.', 'Miss.', 'Master.', 'Mr.', 'Mr.', 'Mrs.', 'Mr.', 'Miss.', 'Mrs.', 'Mr.', 'Mr.', 'Master.', 'Mr.', 'Mr.', 'Mr.', 'Mr.', 'Mr.', 'Mr.', 'Miss.', 'Mr.', 'Mrs.', 'Mr.', 'Mr.', 'Miss.', 'Miss.', 'Miss.', 'Miss.', 'Mr.', 'Mrs.', 'Mr.', 'Mr.', 'Mr.', 'Mr.', 'Mr.', 'Mr.', 'Mrs.', 'Mr.', 'Mr.', 'Mrs.', 'Mr.', 'Mrs.', 'Mr.', 'Miss.', 'Mr.', 'Mr.', 'Mrs.', 'Mr.', 'Mr.', 'Miss.', 'Mr.', 'Mr.', 'Mr.', 'Miss.', 'Mr.', 'Mr.', 'Mrs.', 'Miss.', 'Miss.', 'Major.', 'Miss.', 'Mr.', 'Miss.', 'Miss.', 'Miss.', 'Miss.', 'Mr.', 'Mr.', 'Mr.', 'Mrs.', 'Mr.', 'Mr.', 'Master.', 'Mr.', 'Mr.', 'Mr.', 'Mr.', 'Miss.', 'Mr.', 'Lady.', 'Mr.', 'Mrs.', 'Mrs.', 'Mr.', 'Mr.', 'Mr.', 'Mr.', 'Miss.', 'Mr.', 'Mr.', 'Mrs.', 'Mr.', 'Mr.', 'Mr.', 'Mrs.', 'Mr.', 'Miss.', 'Mr.', 'Mr.', 'Miss.', 'Mrs.', 'Mrs.', 'Mr.', 'Miss.', 'Mrs.', 'Mr.', 'Mr.', 'Mr.', 'Miss.', 'Mr.', 'Mr.', 'Mr.', 'Mr.', 'Mr.', 'Mrs.', 'Mr.', 'Miss.', 'Mr.', 'Mr.', 'Miss.', 'Mr.', 'Mr.', 'Sir.', 'Mrs.', 'Mr.', 'Mr.', 'Mr.', 'Mr.', 'Mr.', 'Mr.', 'Mr.', 'Mrs.', 'Miss.', 'Mrs.', 'Mr.', 'Miss.', 'Mr.', 'Mr.', 'Miss.', 'Mr.', 'Mrs.', 'Miss.', 'Mr.', 'Mr.', 'Mr.', 'Mr.', 'Mr.', 'Mr.', 'Mr.', 'Rev.', 'Miss.', 'Mr.', 'Mr.', 'Mr.', 'Mr.', 'Dr.', 'Mr.', 'Miss.', 'Miss.', 'Mr.', 'Mr.', 'Mrs.', 'Mr.', 'Mr.', 'Mlle.', 'Miss.', 'Mr.', 'Miss.', 'Mr.', 'Mr.', 'Col.', 'Mr.', 'Miss.', 'Mr.', 'Miss.', 'Mr.', 'Miss.', 'Miss.', 'Mr.', 'Mr.', 'Mrs.', 'Mr.', 'Mr.', 'Dr.', 'Mr.', 'Mr.', 'Mr.', 'Mr.', 'Mr.', 'Mr.', 'Mr.', 'Mr.', 'Mrs.', 'Mrs.', 'Mr.', 'Mr.', 'Mr.', 'Mr.', 'Mr.', 'Mr.', 'Miss.', 'Mrs.', 'Mr.', 'Miss.', 'Mr.', 'Mr.', 'Mr.', 'Mr.', 'Mr.', 'Mr.', 'Mr.', 'Mr.', 'Miss.', 'Mr.', 'Miss.', 'Mr.', 'Mr.', 'Col.', 'Mr.', 'Mr.', 'Miss.', 'Mr.', 'Mr.', 'Mrs.', 'Mr.', 'Miss.', 'Mr.', 'Mr.', 'Mr.', 'Mrs.', 'Mr.', 'Miss.', 'Master.', 'Mlle.', 'Mr.', 'Mr.', 'Mr.', 'Mr.', 'Mr.', 'Miss.', 'Miss.', 'Mr.', 'Mr.', 'Miss.', 'Mr.', 'Mr.', 'Mr.', 'Mr.', 'Mr.', 'Mrs.', 'Miss.', 'Mr.', 'Miss.', 'Miss.', 'Mr.', 'Mr.', 'Mr.', 'Mr.', 'Mr.', 'Mrs.', 'Mr.', 'Mr.', 'Mr.', 'Mr.', 'Mr.', 'Miss.', 'Mr.', 'Mr.', 'Capt.', 'Mr.', 'Miss.', 'Mr.', 'Mr.', 'Miss.', 'Master.', 'Mr.', 'Mr.', 'Mrs.', 'Master.', 'Mr.', 'Mr.', 'Mr.', 'Countess.', 'Mr.', 'Mr.', 'Mr.', 'Mrs.', 'Mr.', 'Mrs.', 'Dr.', 'Miss.', 'Mr.', 'Mr.', 'Mr.', 'Mr.', 'Mrs.', 'Mr.', 'Mrs.', 'Mr.', 'Mr.', 'Miss.', 'Mr.', 'Mrs.', 'Miss.', 'Mrs.', 'Mr.', 'Mr.', 'Mr.', 'Mr.', 'Miss.', 'Master.', 'Master.', 'Mr.', 'Mr.', 'Mr.', 'Miss.', 'Mr.', 'Mr.', 'Mr.', 'Dr.', 'Mrs.', 'Mr.', 'Mrs.', 'Mr.', 'Mrs.', 'Master.', 'Master.', 'Mr.', 'Mr.', 'Mr.', 'Miss.', 'Mr.', 'Mrs.', 'Mr.', 'Mr.', 'Mr.', 'Miss.', 'Mr.', 'Mr.', 'Miss.', 'Mr.', 'Mr.', 'Master.', 'Mrs.', 'Mr.', 'Jonkheer.', 'Mrs.', 'Master.', 'Mr.', 'Mr.', 'Master.', 'Mr.', 'Mrs.', 'Mrs.', 'Master.', 'Mr.', 'Mr.', 'Mr.', 'Miss.', 'Mr.', 'Mr.', 'Mr.', 'Mr.', 'Mr.', 'Mr.', 'Miss.', 'Mr.', 'Mr.', 'Mr.', 'Mr.', 'Mr.', 'Rev.', 'Mrs.', 'Master.', 'Mr.', 'Miss.', 'Miss.', 'Mrs.', 'Mrs.', 'Mrs.', 'Mr.', 'Mrs.', 'Mr.', 'Mr.', 'Mr.', 'Mrs.', 'Miss.', 'Mr.', 'Mrs.', 'Miss.', 'Mr.', 'Mr.', 'Master.', 'Mr.', 'Mrs.', 'Mr.', 'Mr.', 'Mrs.', 'Miss.', 'Mr.', 'Mr.', 'Mr.', 'Mrs.', 'Mrs.', 'Mr.', 'Miss.', 'Mr.', 'Mr.', 'Mrs.', 'Rev.', 'Miss.', 'Miss.', 'Mr.', 'Mr.']\n"
     ]
    }
   ],
   "source": [
    "# Title\n",
    "import re \n",
    "\n",
    "print (header)\n",
    "p_match = re.compile(\"\\w*\\.\")\n",
    "arg_match = list(map(lambda x: p_match.findall(x)[0],data[:,3]))\n",
    "arg_match = np.array(arg_match)\n",
    "\n",
    "for title in np.unique(arg_match):\n",
    "    print (title, \" \", sum(arg_match[::]==title))\n",
    "        \n"
   ]
  },
  {
   "cell_type": "code",
   "execution_count": null,
   "metadata": {
    "collapsed": false
   },
   "outputs": [],
   "source": [
    "# passenger class\n",
    "X = data[:,2].astype(np.float)\n",
    "y_class = data[:,1].astype(np.integer)\n",
    "\n",
    "X_weights = []\n",
    "for d_class in np.unique(y_class):\n",
    "    ones_group = np.ones_like(X[y_class==d_class])\n",
    "    X_weights.append(ones_group/len(X[y_class==d_class]))\n",
    "\n",
    "#print (X_weights)\n",
    "width = 0.15\n",
    "ind = np.arange(len(np.unique(X)))+1\n",
    "\n",
    "plt.title('Passenger Class')\n",
    "plt.hist((X[y_class==0],X[y_class==1]),\n",
    "         color=(\"r\",\"g\"), \n",
    "         weights= X_weights, \n",
    "         alpha=0.5, \n",
    "         label = (\"Dead\",\"Survived\"))\n",
    "\n",
    "plt.xticks(ind,['Class 1', 'Class 2','Class 3'])\n",
    "\n",
    "\n",
    "#plt.hist(,color=\"g\", alpha=0.5, stacked=True, label = \"Survived\")\n",
    "plt.legend(loc='upper right')"
   ]
  },
  {
   "cell_type": "code",
   "execution_count": null,
   "metadata": {
    "collapsed": false
   },
   "outputs": [],
   "source": [
    "# names\n",
    "X = data[:,3]\n",
    "y_class = data[:,1].astype(np.integer)\n",
    "\n",
    "t_d = np.array(list(zip(X, y_class)))\n",
    "print (t_d[1:10])\n"
   ]
  },
  {
   "cell_type": "code",
   "execution_count": null,
   "metadata": {
    "collapsed": false
   },
   "outputs": [],
   "source": [
    "# sex\n",
    "X = data[:,4]\n",
    "X_ones = np.ones_like(X)\n",
    "y_class = data[:,1].astype(np.integer)\n",
    "y_names = y_class.astype(str)\n",
    "y_names[y_class==1] = 'Survived'\n",
    "y_names[y_class==0] = 'Dead'\n",
    "\n",
    "plot_data=[]\n",
    "for my_class in np.unique(y_names):\n",
    "    \n",
    "    sum_my = len(X[y_names==my_class])  # sum of my classes\n",
    "    \n",
    "    for mx_class in np.unique (X):\n",
    "        condit = np.logical_and(X==mx_class, y_names==my_class)\n",
    "        x_weights = round(len(X[condit])/sum_my,2)\n",
    "        plot_data.append ([my_class,mx_class,x_weights])\n",
    "\n",
    "plot_data = np.array(plot_data)\n",
    "plot_data[:,2] = plot_data[:,2].astype(float)\n",
    "#print (plot_data)\n",
    "\n",
    "width = 0.2\n",
    "i_ind = 0\n",
    "col_arr = ['red','green']\n",
    "for my_class in np.unique(y_names):\n",
    "    pl_data = plot_data[plot_data[:,0]==my_class,2].astype(float)\n",
    "    #print (pl_data)\n",
    "    ind = np.arange(len(np.unique(X)))\n",
    "    plt.bar(ind+i_ind*width,pl_data, width, alpha = 0.6, color = col_arr[i_ind], label = my_class)\n",
    "    i_ind = i_ind + 1\n",
    "\n",
    "plt.legend(loc='upper right')\n",
    "plt.ylim ([0,1.2])\n",
    "ind = np.arange(len(np.unique(X)))\n",
    "plt.xticks(ind+width,np.unique(X))\n",
    "plt.title (\"Data by sex\")\n",
    "plt.show()"
   ]
  },
  {
   "cell_type": "code",
   "execution_count": null,
   "metadata": {
    "collapsed": false
   },
   "outputs": [],
   "source": [
    "# age\n",
    "X = data[:,5]\n",
    "X[X==\"\"] = 0\n",
    "X_weights = np.ones_like(X).astype(float)\n",
    "y_class = data[:,1].astype(np.integer)\n",
    "y_names = y_class.astype(str)\n",
    "y_names[y_class==1] = 'Survived'\n",
    "y_names[y_class==0] = 'Dead'\n",
    "y_names[X=='0'] = 'not defined'\n",
    "\n",
    "for my_class in np.unique(y_names):\n",
    "   X_weights[y_names == my_class] = 1/sum(y_names == my_class)\n",
    "\n",
    "#print (X[y_names == 'Survived'])\n",
    "\n",
    "width = 0.2\n",
    "i_ind = 0\n",
    "col_arr = ['red','green']\n",
    "for my_class in (\"Dead\",\"Survived\"):\n",
    "    pl_data = X[y_names==my_class].astype(float)\n",
    "    pl_weight = X_weights[y_names==my_class].astype(float)\n",
    "    #print (pl_data)\n",
    "    #ind = np.arange(len(np.unique(X)))\n",
    "    plt.hist(pl_data,\n",
    "             bins = 20,\n",
    "             range = [0,100],\n",
    "             weights = pl_weight,\n",
    "             alpha = 0.5,\n",
    "             label = my_class,\n",
    "             color = col_arr[i_ind])\n",
    "    \n",
    "\n",
    "    i_ind = i_ind + 1\n",
    "\n",
    "    \n",
    "plt.legend(loc='upper right')\n",
    "plt.title (\"Survival rate by age\")\n",
    "plt.show()"
   ]
  },
  {
   "cell_type": "code",
   "execution_count": null,
   "metadata": {
    "collapsed": false
   },
   "outputs": [],
   "source": [
    "# Number of Siblings\n",
    "X = data[:,6]\n",
    "X_ones = np.ones_like(X)\n",
    "y_class = data[:,1].astype(np.integer)\n",
    "y_names = y_class.astype(str)\n",
    "y_names[y_class==1] = 'Survived'\n",
    "y_names[y_class==0] = 'Dead'\n",
    "\n",
    "plot_data=[]\n",
    "for my_class in np.unique(y_names):\n",
    "    \n",
    "    sum_my = len(X[y_names==my_class])  # sum of my classes\n",
    "    \n",
    "    for mx_class in np.unique (X):\n",
    "        condit = np.logical_and(X==mx_class, y_names==my_class)\n",
    "        x_weights = round(len(X[condit])/sum_my,2)\n",
    "        plot_data.append ([my_class,mx_class,x_weights])\n",
    "\n",
    "plot_data = np.array(plot_data)\n",
    "plot_data[:,2] = plot_data[:,2].astype(float)\n",
    "#print (plot_data)\n",
    "\n",
    "width = 0.2\n",
    "i_ind = 0\n",
    "col_arr = ['red','green']\n",
    "for my_class in np.unique(y_names):\n",
    "    pl_data = plot_data[plot_data[:,0]==my_class,2].astype(float)\n",
    "    #print (pl_data)\n",
    "    ind = np.arange(len(np.unique(X)))\n",
    "    plt.bar(ind+i_ind*width,pl_data, width, alpha = 0.6, color = col_arr[i_ind], label = my_class)\n",
    "    i_ind = i_ind + 1\n",
    "\n",
    "plt.legend(loc='upper right')\n",
    "plt.ylim ([0,1.2])\n",
    "ind = np.arange(len(np.unique(X)))\n",
    "plt.xticks(ind+width,np.unique(X))\n",
    "plt.title (\"Data by Siblings/Spouses Aboard\")\n",
    "plt.show()"
   ]
  },
  {
   "cell_type": "code",
   "execution_count": null,
   "metadata": {
    "collapsed": true
   },
   "outputs": [],
   "source": []
  },
  {
   "cell_type": "code",
   "execution_count": null,
   "metadata": {
    "collapsed": false
   },
   "outputs": [],
   "source": [
    "#  Number of Parents/Children Aboard\n",
    "X = data[:,7]\n",
    "X_ones = np.ones_like(X)\n",
    "y_class = data[:,1].astype(np.integer)\n",
    "y_names = y_class.astype(str)\n",
    "y_names[y_class==1] = 'Survived'\n",
    "y_names[y_class==0] = 'Dead'\n",
    "\n",
    "plot_data=[]\n",
    "for my_class in np.unique(y_names):\n",
    "    \n",
    "    sum_my = len(X[y_names==my_class])  # sum of my classes\n",
    "    \n",
    "    for mx_class in np.unique (X):\n",
    "        condit = np.logical_and(X==mx_class, y_names==my_class)\n",
    "        x_weights = round(len(X[condit])/sum_my,2)\n",
    "        plot_data.append ([my_class,mx_class,x_weights])\n",
    "\n",
    "plot_data = np.array(plot_data)\n",
    "plot_data[:,2] = plot_data[:,2].astype(float)\n",
    "#print (plot_data)\n",
    "\n",
    "width = 0.2\n",
    "i_ind = 0\n",
    "col_arr = ['red','green']\n",
    "for my_class in np.unique(y_names):\n",
    "    pl_data = plot_data[plot_data[:,0]==my_class,2].astype(float)\n",
    "    #print (pl_data)\n",
    "    ind = np.arange(len(np.unique(X)))\n",
    "    plt.bar(ind+i_ind*width,pl_data, width, alpha = 0.6, color = col_arr[i_ind], label = my_class)\n",
    "    i_ind = i_ind + 1\n",
    "\n",
    "plt.legend(loc='upper right')\n",
    "plt.ylim ([0,1.2])\n",
    "ind = np.arange(len(np.unique(X)))\n",
    "plt.xticks(ind+width,np.unique(X))\n",
    "plt.title (\"Data by  Number of Parents/Children Aboard\")\n",
    "plt.show()\n"
   ]
  },
  {
   "cell_type": "code",
   "execution_count": null,
   "metadata": {
    "collapsed": false
   },
   "outputs": [],
   "source": [
    "# names\n",
    "X = data[:,8]\n",
    "y_class = data[:,1].astype(np.integer)\n",
    "\n",
    "t_d = np.array(list(zip(X, y_class)))\n",
    "print (t_d[1:10])"
   ]
  },
  {
   "cell_type": "code",
   "execution_count": null,
   "metadata": {
    "collapsed": false
   },
   "outputs": [],
   "source": [
    "# Fare\n",
    "X = data[:,9]\n",
    "X_weights = np.ones_like(X).astype(float)\n",
    "y_class = data[:,1].astype(np.integer)\n",
    "y_names = y_class.astype(str)\n",
    "y_names[y_class==1] = 'Survived'\n",
    "y_names[y_class==0] = 'Dead'\n",
    "\n",
    "for my_class in np.unique(y_names):\n",
    "   X_weights[y_names == my_class] = 1/sum(y_names == my_class)\n",
    "\n",
    "#print (X[y_names == 'Survived'])\n",
    "\n",
    "width = 0.2\n",
    "i_ind = 0\n",
    "col_arr = ['red','green']\n",
    "for my_class in (\"Dead\",\"Survived\"):\n",
    "    pl_data = X[y_names==my_class].astype(float)\n",
    "    pl_weight = X_weights[y_names==my_class].astype(float)\n",
    "    #print (pl_data)\n",
    "    #ind = np.arange(len(np.unique(X)))\n",
    "    plt.hist(pl_data,\n",
    "             bins = 20,\n",
    "             range = [0,600],\n",
    "             weights = pl_weight,\n",
    "             alpha = 0.5,\n",
    "             label = my_class,\n",
    "             color = col_arr[i_ind])\n",
    "    \n",
    "\n",
    "    i_ind = i_ind + 1\n",
    "\n",
    "    \n",
    "plt.legend(loc='upper right')\n",
    "plt.title (\"Survival rate by Fare\")\n",
    "plt.show()"
   ]
  },
  {
   "cell_type": "code",
   "execution_count": null,
   "metadata": {
    "collapsed": false,
    "scrolled": true
   },
   "outputs": [],
   "source": [
    "#  Cabin\n",
    "\n",
    "def first_letter(x):\n",
    "    if x!=\"\":\n",
    "        return x[0]\n",
    "    else:\n",
    "        return \"N\"\n",
    "    \n",
    "print (data[0:20,10])        \n",
    "mp_dt = list(map (first_letter,data[:,10]))\n",
    "print (mp_dt[0:20])\n",
    "\n",
    "\n",
    "X = np.array(mp_dt)\n",
    "X_ones = np.ones_like(X)\n",
    "y_class = data[:,1].astype(np.integer)\n",
    "y_names = y_class.astype(str)\n",
    "y_names[y_class==1] = 'Survived'\n",
    "y_names[y_class==0] = 'Dead'\n",
    "\n",
    "len(X[y_names=='Survived'])\n",
    "\n",
    "plot_data=[]\n",
    "for my_class in np.unique(y_names):\n",
    "    \n",
    "    sum_my = len(X[y_names==my_class])  # sum of my classes\n",
    "    \n",
    "    for mx_class in np.unique (X):\n",
    "        condit = np.logical_and(X==mx_class, y_names==my_class)\n",
    "        x_weights = round(len(X[condit])/sum_my,2)\n",
    "        plot_data.append ([my_class,mx_class,x_weights])\n",
    "\n",
    "plot_data = np.array(plot_data)\n",
    "plot_data[:,2] = plot_data[:,2].astype(float)\n",
    "#print (plot_data)\n",
    "\n",
    "width = 0.2\n",
    "i_ind = 0\n",
    "col_arr = ['red','green']\n",
    "for my_class in np.unique(y_names):\n",
    "    pl_data = plot_data[plot_data[:,0]==my_class,2].astype(float)\n",
    "    #print (pl_data)\n",
    "    ind = np.arange(len(np.unique(X)))\n",
    "    plt.bar(ind+i_ind*width,pl_data, width, alpha = 0.6, color = col_arr[i_ind], label = my_class)\n",
    "    i_ind = i_ind + 1\n",
    "\n",
    "plt.legend(loc='upper right')\n",
    "plt.ylim ([0,1.2])\n",
    "ind = np.arange(len(np.unique(X)))\n",
    "plt.xticks(ind+width,np.unique(X))\n",
    "plt.title (\"Data by  Cabin type\")\n",
    "plt.show()"
   ]
  },
  {
   "cell_type": "code",
   "execution_count": null,
   "metadata": {
    "collapsed": false,
    "scrolled": false
   },
   "outputs": [],
   "source": [
    "#  Cabin\n",
    "\n",
    "X = data[:,10]\n",
    "X_ticket = data[:,8]\n",
    "X_name = data[:,3]\n",
    "X_ones = np.ones_like(X)\n",
    "y_class = data[:,1].astype(np.integer)\n",
    "y_names = y_class.astype(str)\n",
    "y_names[y_class==1] = 'Survived'\n",
    "y_names[y_class==0] = 'Dead'\n",
    "\n",
    "\n",
    "cabin_data = np.array(list(zip (X,y_names,X_ticket, X_name)))\n",
    "ind_sort = np.argsort(cabin_data[:,0])\n",
    "cabin_data = cabin_data[ind_sort,:]\n",
    "\n",
    "n= 751\n",
    "print (cabin_data[n:(n+50)])"
   ]
  },
  {
   "cell_type": "code",
   "execution_count": null,
   "metadata": {
    "collapsed": false
   },
   "outputs": [],
   "source": [
    "#  Embarked\n",
    "\n",
    "X = data[:,11]\n",
    "X_ones = np.ones_like(X)\n",
    "y_class = data[:,1].astype(np.integer)\n",
    "y_names = y_class.astype(str)\n",
    "y_names[y_class==1] = 'Survived'\n",
    "y_names[y_class==0] = 'Dead'\n",
    "\n",
    "len(X[y_names=='Survived'])\n",
    "\n",
    "plot_data=[]\n",
    "for my_class in np.unique(y_names):\n",
    "    \n",
    "    sum_my = len(X[y_names==my_class])  # sum of my classes\n",
    "    \n",
    "    for mx_class in np.unique (X):\n",
    "        condit = np.logical_and(X==mx_class, y_names==my_class)\n",
    "        x_weights = round(len(X[condit])/sum_my,2)\n",
    "        plot_data.append ([my_class,mx_class,x_weights])\n",
    "\n",
    "plot_data = np.array(plot_data)\n",
    "plot_data[:,2] = plot_data[:,2].astype(float)\n",
    "#print (plot_data)\n",
    "\n",
    "width = 0.2\n",
    "i_ind = 0\n",
    "col_arr = ['red','green']\n",
    "for my_class in np.unique(y_names):\n",
    "    pl_data = plot_data[plot_data[:,0]==my_class,2].astype(float)\n",
    "    #print (pl_data)\n",
    "    ind = np.arange(len(np.unique(X)))\n",
    "    plt.bar(ind+i_ind*width,pl_data, width, alpha = 0.6, color = col_arr[i_ind], label = my_class)\n",
    "    i_ind = i_ind + 1\n",
    "\n",
    "plt.legend(loc='upper right')\n",
    "plt.ylim ([0,1.2])\n",
    "ind = np.arange(len(np.unique(X)))\n",
    "plt.xticks(ind+width,np.unique(X))\n",
    "plt.title (\"Data by  Cabin type\")\n",
    "plt.show()"
   ]
  },
  {
   "cell_type": "code",
   "execution_count": null,
   "metadata": {
    "collapsed": false
   },
   "outputs": [],
   "source": [
    "#  Age vs Name\n",
    "\n",
    "X_name = np.copy(data[::,3])\n",
    "X_age = np.copy(data[::,5])\n",
    "\n",
    "X_age[X_age==\"\"] = -1\n",
    "X_age = X_age.astype(float)\n",
    "\n",
    "y_class = data[:,1].astype(np.integer)\n",
    "y_names = y_class.astype(str)\n",
    "y_names[y_class==1] = 'Survived'\n",
    "y_names[y_class==0] = 'Dead'\n",
    "\n",
    "\n",
    "cabin_data = np.array(list(zip (X_age, X_name,y_names)))\n",
    "\n",
    "ind_sort = np.argsort(X_age)\n",
    "cabin_data = cabin_data[ind_sort,:]\n",
    "\n",
    "n= 100\n",
    "print (cabin_data[n:(n+20)])"
   ]
  },
  {
   "cell_type": "code",
   "execution_count": null,
   "metadata": {
    "collapsed": false
   },
   "outputs": [],
   "source": [
    "print(header[8])\n",
    "X = np.copy(data[::,8])\n",
    "x1 = list(map (lambda x: sum(data[::,8]==x),data[::,8]))\n",
    "#X = np.column_stack((X,x1))\n",
    "X = np.array(x1)\n",
    "print ()\n",
    "y_class = data[:,1].astype(np.integer)\n",
    "y_names = y_class.astype(str)\n",
    "y_names[y_class==1] = 'Survived'\n",
    "y_names[y_class==0] = 'Dead'\n",
    "\n",
    "len(X[y_names=='Survived'])\n",
    "\n",
    "plot_data=[]\n",
    "for my_class in np.unique(y_names):\n",
    "    \n",
    "    sum_my = len(X[y_names==my_class])  # sum of my classes\n",
    "    \n",
    "    for mx_class in np.unique (X):\n",
    "        condit = np.logical_and(X==mx_class, y_names==my_class)\n",
    "        x_weights = round(len(X[condit])/sum_my,2)\n",
    "        plot_data.append ([my_class,mx_class,x_weights])\n",
    "\n",
    "plot_data = np.array(plot_data)\n",
    "plot_data[:,2] = plot_data[:,2].astype(float)\n",
    "#print (plot_data)\n",
    "\n",
    "width = 0.2\n",
    "i_ind = 0\n",
    "col_arr = ['red','green']\n",
    "for my_class in np.unique(y_names):\n",
    "    pl_data = plot_data[plot_data[:,0]==my_class,2].astype(float)\n",
    "    #print (pl_data)\n",
    "    ind = np.arange(len(np.unique(X)))\n",
    "    plt.bar(ind+i_ind*width,pl_data, width, alpha = 0.6, color = col_arr[i_ind], label = my_class)\n",
    "    i_ind = i_ind + 1\n",
    "\n",
    "plt.legend(loc='upper right')\n",
    "plt.ylim ([0,1.2])\n",
    "ind = np.arange(len(np.unique(X)))\n",
    "plt.xticks(ind+width,np.unique(X))\n",
    "plt.title (\"Data by number of people with the same ticket\")\n",
    "plt.show()"
   ]
  },
  {
   "cell_type": "code",
   "execution_count": null,
   "metadata": {
    "collapsed": false
   },
   "outputs": [],
   "source": [
    "def same_room_surv (x_ticket,x_name, my_data):\n",
    "    #print (my_data[i_ind,8])\n",
    "    vect = np.column_stack((my_data[::,8]==x_ticket,my_data[:,1]=='1',my_data[:,3]!=x_name))\n",
    "    vect = np.all(vect,axis=1)\n",
    "    return(sum(vect))\n",
    "\n",
    "\n",
    "print(header[1],\", \",header[8])\n",
    "\n",
    "max_length = int(round(data.shape[0]*0.75,0))\n",
    "print (max_length)\n",
    "\n",
    "x1 = list(map (lambda x: same_room_surv(data[x,8],data[x,3],data[:max_length,]),range(data.shape[0])))\n",
    "\n",
    "#print (x1)\n",
    "#x1[8]\n",
    "#print (data[data[:,8]=='347742',:])\n",
    "\n",
    "\n",
    "\n",
    "X = np.array(x1)\n",
    "print ()\n",
    "y_class = data[:,1].astype(np.integer)\n",
    "y_names = y_class.astype(str)\n",
    "y_names[y_class==1] = 'Survived'\n",
    "y_names[y_class==0] = 'Dead'\n",
    "\n",
    "print (len(X))\n",
    "#X = X[max_length:]\n",
    "#y_names = y_names[max_length:]\n",
    "print (len(X))\n",
    "\n",
    "plot_data=[]\n",
    "for my_class in np.unique(y_names):\n",
    "    \n",
    "    sum_my = len(X[y_names==my_class])  # sum of my classes\n",
    "    \n",
    "    for mx_class in np.unique (X):\n",
    "        condit = np.logical_and(X==mx_class, y_names==my_class)\n",
    "        x_weights = round(len(X[condit])/sum_my,2)\n",
    "        plot_data.append ([my_class,mx_class,x_weights])\n",
    "\n",
    "plot_data = np.array(plot_data)\n",
    "plot_data[:,2] = plot_data[:,2].astype(float)\n",
    "#print (plot_data)\n",
    "\n",
    "width = 0.2\n",
    "i_ind = 0\n",
    "col_arr = ['red','green']\n",
    "for my_class in np.unique(y_names):\n",
    "    pl_data = plot_data[plot_data[:,0]==my_class,2].astype(float)\n",
    "    #print (pl_data)\n",
    "    ind = np.arange(len(np.unique(X)))\n",
    "    plt.bar(ind+i_ind*width,pl_data, width, alpha = 0.6, color = col_arr[i_ind], label = my_class)\n",
    "    i_ind = i_ind + 1\n",
    "\n",
    "plt.legend(loc='upper right')\n",
    "plt.ylim ([0,1.2])\n",
    "ind = np.arange(len(np.unique(X)))\n",
    "plt.xticks(ind+width,np.unique(X))\n",
    "plt.title (\"Data by number of people with the same ticket\")\n",
    "plt.show()"
   ]
  }
 ],
 "metadata": {
  "kernelspec": {
   "display_name": "Python 3",
   "language": "python",
   "name": "python3"
  },
  "language_info": {
   "codemirror_mode": {
    "name": "ipython",
    "version": 3
   },
   "file_extension": ".py",
   "mimetype": "text/x-python",
   "name": "python",
   "nbconvert_exporter": "python",
   "pygments_lexer": "ipython3",
   "version": "3.4.3"
  }
 },
 "nbformat": 4,
 "nbformat_minor": 0
}
