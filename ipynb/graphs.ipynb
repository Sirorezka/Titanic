{
 "cells": [
  {
   "cell_type": "markdown",
   "metadata": {},
   "source": [
    "# Creating graphs for Titanic data"
   ]
  },
  {
   "cell_type": "markdown",
   "metadata": {},
   "source": [
    "First set up  the directory with the data"
   ]
  },
  {
   "cell_type": "code",
   "execution_count": 2,
   "metadata": {
    "collapsed": false
   },
   "outputs": [],
   "source": [
    "#%matplotlib notebook\n",
    "%matplotlib inline\n",
    "\n",
    "import csv as csv\n",
    "import numpy as np\n",
    "import plotly\n",
    "import  matplotlib.mlab  as mlab\n",
    "import matplotlib.pyplot as plt\n",
    "import matplotlib.pylab as pl\n",
    "\n",
    "my_project_dir = \"C:\\\\Users\\Johnny\\Documents\\GitHub\\Titanic\\kaggle_data\\\\\"\n"
   ]
  },
  {
   "cell_type": "markdown",
   "metadata": {},
   "source": [
    "Load and preview the data"
   ]
  },
  {
   "cell_type": "code",
   "execution_count": 3,
   "metadata": {
    "collapsed": false,
    "scrolled": true
   },
   "outputs": [
    {
     "name": "stdout",
     "output_type": "stream",
     "text": [
      "['PassengerId', 'Survived', 'Pclass', 'Name', 'Sex', 'Age', 'SibSp', 'Parch', 'Ticket', 'Fare', 'Cabin', 'Embarked']\n",
      "[['1' '0' '3' 'Braund, Mr. Owen Harris' 'male' '22' '1' '0' 'A/5 21171'\n",
      "  '7.25' '' 'S']\n",
      " ['2' '1' '1' 'Cumings, Mrs. John Bradley (Florence Briggs Thayer)'\n",
      "  'female' '38' '1' '0' 'PC 17599' '71.2833' 'C85' 'C']]\n"
     ]
    }
   ],
   "source": [
    "csv_file_object = csv.reader(open(my_project_dir + 'train.csv', 'r'))       # Load in the csv file\n",
    "header = next(csv_file_object)                     # Skip the fist line as it is a header\n",
    "data=[]                                            # Create a variable to hold the data\n",
    "\n",
    "for row in csv_file_object:                        # Skip through each row in the csv file,\n",
    "    data.append(row[0:])                           # adding each row to the data variable\n",
    "    \n",
    "\n",
    "data = np.array(data)                              # importing data as np array\n",
    "print (header[:])\n",
    "print (data[0:2,:])\n"
   ]
  },
  {
   "cell_type": "code",
   "execution_count": 4,
   "metadata": {
    "collapsed": false
   },
   "outputs": [],
   "source": [
    "def sum_groups (arr_groups,arr_data):\n",
    "    unique_groups = np.unique(arr_groups)\n",
    "    arr_sums = []\n",
    "    for group in unique_groups:\n",
    "        arr_sums.append(arr_data[arr_groups == group].sum())\n",
    "    \n",
    "    return unique_groups,arr_sums"
   ]
  },
  {
   "cell_type": "code",
   "execution_count": 6,
   "metadata": {
    "collapsed": false
   },
   "outputs": [
    {
     "name": "stdout",
     "output_type": "stream",
     "text": [
      "342\n"
     ]
    },
    {
     "data": {
      "image/png": "[encoded data removed]",
      "text/plain": [
       "<matplotlib.figure.Figure at 0xacea0b8>"
      ]
     },
     "metadata": {},
     "output_type": "display_data"
    }
   ],
   "source": [
    "X = data[:,1].astype(np.float)\n",
    "\n",
    "X_weights = np.ones_like(X)/float(len(X))   \n",
    "print (sum(X==1))\n",
    "\n",
    "n, bins, patches = plt.hist(X, 4, weights = X_weights,  facecolor='g', alpha=0.75)\n",
    "plt.title('Number of Survived and dead \\n 1 - survived, 0 - dead')\n",
    "plt.show()\n",
    "\n",
    "#print (n,bins, patches[:])\n",
    "\n"
   ]
  },
  {
   "cell_type": "code",
   "execution_count": 15,
   "metadata": {
    "collapsed": false
   },
   "outputs": [
    {
     "data": {
      "image/png": "[encoded data removed]",
      "text/plain": [
       "<matplotlib.figure.Figure at 0xb783390>"
      ]
     },
     "metadata": {},
     "output_type": "display_data"
    }
   ],
   "source": [
    "# Selecting data\n",
    "y_class = data[:,1].astype(np.integer)\n",
    "X = np.ones_like(y_class)\n",
    "y_groups, X_data = sum_groups (y_class, X)\n",
    "X_data = X_data/sum(X_data)\n",
    "#print ([X_data[0]],X_data[1])\n",
    "\n",
    "# Plotting the data\n",
    "width = 0.35\n",
    "ind = np.arange(len(y_groups))\n",
    "\n",
    "fig, ax = plt.subplots()\n",
    "ax.bar(ind,X_data, width)\n",
    "pl.xticks(ind + width/2,['Dead', 'Survived'])\n",
    "plt.title('Number of Survived and dead')\n",
    "pl.show()\n",
    "\n",
    "\n",
    "#rects1 = plt.bar(index, means_men)\n",
    "\n",
    "#data2 = [[np.random.rand(100)] for i in range(3)]\n",
    "#pl.boxplot(data2)\n",
    "#pl.xticks([1, 2, 3], ['mon', 'tue', 'wed'])\n",
    "#pl.show()"
   ]
  },
  {
   "cell_type": "code",
   "execution_count": 16,
   "metadata": {
    "collapsed": false
   },
   "outputs": [
    {
     "name": "stdout",
     "output_type": "stream",
     "text": [
      "['PassengerId', 'Survived', 'Pclass', 'Name', 'Sex', 'Age', 'SibSp', 'Parch', 'Ticket', 'Fare', 'Cabin', 'Embarked']\n",
      "Capt.   1\n",
      "Col.   2\n",
      "Countess.   1\n",
      "Don.   1\n",
      "Dr.   7\n",
      "Jonkheer.   1\n",
      "Lady.   1\n",
      "Major.   2\n",
      "Master.   40\n",
      "Miss.   182\n",
      "Mlle.   2\n",
      "Mme.   1\n",
      "Mr.   517\n",
      "Mrs.   125\n",
      "Ms.   1\n",
      "Rev.   6\n",
      "Sir.   1\n"
     ]
    }
   ],
   "source": [
    "# Title\n",
    "import re \n",
    "\n",
    "print (header)\n",
    "p_match = re.compile(\"\\w*\\.\")\n",
    "arg_match = list(map(lambda x: p_match.findall(x)[0],data[:,3]))\n",
    "arg_match = np.array(arg_match)\n",
    "\n",
    "for title in np.unique(arg_match):\n",
    "    print (title, \" \", sum(arg_match[::]==title))\n",
    "        \n"
   ]
  },
  {
   "cell_type": "code",
   "execution_count": 17,
   "metadata": {
    "collapsed": false
   },
   "outputs": [
    {
     "data": {
      "text/plain": [
       "<matplotlib.legend.Legend at 0x71d9b0>"
      ]
     },
     "execution_count": 17,
     "metadata": {},
     "output_type": "execute_result"
    },
    {
     "data": {
      "image/png": "[encoded data removed]",
      "text/plain": [
       "<matplotlib.figure.Figure at 0xabbfd0>"
      ]
     },
     "metadata": {},
     "output_type": "display_data"
    }
   ],
   "source": [
    "# passenger class\n",
    "X = data[:,2].astype(np.float)\n",
    "y_class = data[:,1].astype(np.integer)\n",
    "\n",
    "X_weights = []\n",
    "for d_class in np.unique(y_class):\n",
    "    ones_group = np.ones_like(X[y_class==d_class])\n",
    "    X_weights.append(ones_group/len(X[y_class==d_class]))\n",
    "\n",
    "#print (X_weights)\n",
    "width = 0.15\n",
    "ind = np.arange(len(np.unique(X)))+1\n",
    "\n",
    "plt.title('Passenger Class')\n",
    "plt.hist((X[y_class==0],X[y_class==1]),\n",
    "         color=(\"r\",\"g\"), \n",
    "         weights= X_weights, \n",
    "         alpha=0.5, \n",
    "         label = (\"Dead\",\"Survived\"))\n",
    "\n",
    "plt.xticks(ind,['Class 1', 'Class 2','Class 3'])\n",
    "\n",
    "\n",
    "#plt.hist(,color=\"g\", alpha=0.5, stacked=True, label = \"Survived\")\n",
    "plt.legend(loc='upper right')"
   ]
  },
  {
   "cell_type": "code",
   "execution_count": 18,
   "metadata": {
    "collapsed": false
   },
   "outputs": [
    {
     "name": "stdout",
     "output_type": "stream",
     "text": [
      "[['Cumings, Mrs. John Bradley (Florence Briggs Thayer)' '1']\n",
      " ['Heikkinen, Miss. Laina' '1']\n",
      " ['Futrelle, Mrs. Jacques Heath (Lily May Peel)' '1']\n",
      " ['Allen, Mr. William Henry' '0']\n",
      " ['Moran, Mr. James' '0']\n",
      " ['McCarthy, Mr. Timothy J' '0']\n",
      " ['Palsson, Master. Gosta Leonard' '0']\n",
      " ['Johnson, Mrs. Oscar W (Elisabeth Vilhelmina Berg)' '1']\n",
      " ['Nasser, Mrs. Nicholas (Adele Achem)' '1']]\n"
     ]
    }
   ],
   "source": [
    "# names\n",
    "X = data[:,3]\n",
    "y_class = data[:,1].astype(np.integer)\n",
    "\n",
    "t_d = np.array(list(zip(X, y_class)))\n",
    "print (t_d[1:10])\n"
   ]
  },
  {
   "cell_type": "code",
   "execution_count": 19,
   "metadata": {
    "collapsed": false
   },
   "outputs": [
    {
     "data": {
      "image/png": "[encoded data removed]",
      "text/plain": [
       "<matplotlib.figure.Figure at 0xad3cf8>"
      ]
     },
     "metadata": {},
     "output_type": "display_data"
    }
   ],
   "source": [
    "# sex\n",
    "X = data[:,4]\n",
    "X_ones = np.ones_like(X)\n",
    "y_class = data[:,1].astype(np.integer)\n",
    "y_names = y_class.astype(str)\n",
    "y_names[y_class==1] = 'Survived'\n",
    "y_names[y_class==0] = 'Dead'\n",
    "\n",
    "plot_data=[]\n",
    "for my_class in np.unique(y_names):\n",
    "    \n",
    "    sum_my = len(X[y_names==my_class])  # sum of my classes\n",
    "    \n",
    "    for mx_class in np.unique (X):\n",
    "        condit = np.logical_and(X==mx_class, y_names==my_class)\n",
    "        x_weights = round(len(X[condit])/sum_my,2)\n",
    "        plot_data.append ([my_class,mx_class,x_weights])\n",
    "\n",
    "plot_data = np.array(plot_data)\n",
    "plot_data[:,2] = plot_data[:,2].astype(float)\n",
    "#print (plot_data)\n",
    "\n",
    "width = 0.2\n",
    "i_ind = 0\n",
    "col_arr = ['red','green']\n",
    "for my_class in np.unique(y_names):\n",
    "    pl_data = plot_data[plot_data[:,0]==my_class,2].astype(float)\n",
    "    #print (pl_data)\n",
    "    ind = np.arange(len(np.unique(X)))\n",
    "    plt.bar(ind+i_ind*width,pl_data, width, alpha = 0.6, color = col_arr[i_ind], label = my_class)\n",
    "    i_ind = i_ind + 1\n",
    "\n",
    "plt.legend(loc='upper right')\n",
    "plt.ylim ([0,1.2])\n",
    "ind = np.arange(len(np.unique(X)))\n",
    "plt.xticks(ind+width,np.unique(X))\n",
    "plt.title (\"Data by sex\")\n",
    "plt.show()"
   ]
  },
  {
   "cell_type": "code",
   "execution_count": 20,
   "metadata": {
    "collapsed": false
   },
   "outputs": [
    {
     "data": {
      "image/png": "[encoded data removed]",
      "text/plain": [
       "<matplotlib.figure.Figure at 0xadb048>"
      ]
     },
     "metadata": {},
     "output_type": "display_data"
    }
   ],
   "source": [
    "# age\n",
    "X = data[:,5]\n",
    "X[X==\"\"] = 0\n",
    "X_weights = np.ones_like(X).astype(float)\n",
    "y_class = data[:,1].astype(np.integer)\n",
    "y_names = y_class.astype(str)\n",
    "y_names[y_class==1] = 'Survived'\n",
    "y_names[y_class==0] = 'Dead'\n",
    "y_names[X=='0'] = 'not defined'\n",
    "\n",
    "for my_class in np.unique(y_names):\n",
    "   X_weights[y_names == my_class] = 1/sum(y_names == my_class)\n",
    "\n",
    "#print (X[y_names == 'Survived'])\n",
    "\n",
    "width = 0.2\n",
    "i_ind = 0\n",
    "col_arr = ['red','green']\n",
    "for my_class in (\"Dead\",\"Survived\"):\n",
    "    pl_data = X[y_names==my_class].astype(float)\n",
    "    pl_weight = X_weights[y_names==my_class].astype(float)\n",
    "    #print (pl_data)\n",
    "    #ind = np.arange(len(np.unique(X)))\n",
    "    plt.hist(pl_data,\n",
    "             bins = 20,\n",
    "             range = [0,100],\n",
    "             weights = pl_weight,\n",
    "             alpha = 0.5,\n",
    "             label = my_class,\n",
    "             color = col_arr[i_ind])\n",
    "    \n",
    "\n",
    "    i_ind = i_ind + 1\n",
    "\n",
    "    \n",
    "plt.legend(loc='upper right')\n",
    "plt.title (\"Survival rate by age\")\n",
    "plt.show()"
   ]
  },
  {
   "cell_type": "code",
   "execution_count": 21,
   "metadata": {
    "collapsed": false
   },
   "outputs": [
    {
     "data": {
      "image/png": "[encoded data removed]",
      "text/plain": [
       "<matplotlib.figure.Figure at 0xbe7ef0>"
      ]
     },
     "metadata": {},
     "output_type": "display_data"
    }
   ],
   "source": [
    "# Number of Siblings\n",
    "X = data[:,6]\n",
    "X_ones = np.ones_like(X)\n",
    "y_class = data[:,1].astype(np.integer)\n",
    "y_names = y_class.astype(str)\n",
    "y_names[y_class==1] = 'Survived'\n",
    "y_names[y_class==0] = 'Dead'\n",
    "\n",
    "plot_data=[]\n",
    "for my_class in np.unique(y_names):\n",
    "    \n",
    "    sum_my = len(X[y_names==my_class])  # sum of my classes\n",
    "    \n",
    "    for mx_class in np.unique (X):\n",
    "        condit = np.logical_and(X==mx_class, y_names==my_class)\n",
    "        x_weights = round(len(X[condit])/sum_my,2)\n",
    "        plot_data.append ([my_class,mx_class,x_weights])\n",
    "\n",
    "plot_data = np.array(plot_data)\n",
    "plot_data[:,2] = plot_data[:,2].astype(float)\n",
    "#print (plot_data)\n",
    "\n",
    "width = 0.2\n",
    "i_ind = 0\n",
    "col_arr = ['red','green']\n",
    "for my_class in np.unique(y_names):\n",
    "    pl_data = plot_data[plot_data[:,0]==my_class,2].astype(float)\n",
    "    #print (pl_data)\n",
    "    ind = np.arange(len(np.unique(X)))\n",
    "    plt.bar(ind+i_ind*width,pl_data, width, alpha = 0.6, color = col_arr[i_ind], label = my_class)\n",
    "    i_ind = i_ind + 1\n",
    "\n",
    "plt.legend(loc='upper right')\n",
    "plt.ylim ([0,1.2])\n",
    "ind = np.arange(len(np.unique(X)))\n",
    "plt.xticks(ind+width,np.unique(X))\n",
    "plt.title (\"Data by Siblings/Spouses Aboard\")\n",
    "plt.show()"
   ]
  },
  {
   "cell_type": "code",
   "execution_count": null,
   "metadata": {
    "collapsed": true
   },
   "outputs": [],
   "source": []
  },
  {
   "cell_type": "code",
   "execution_count": 22,
   "metadata": {
    "collapsed": false
   },
   "outputs": [
    {
     "data": {
      "image/png": "[encoded data removed]",
      "text/plain": [
       "<matplotlib.figure.Figure at 0x927bc18>"
      ]
     },
     "metadata": {},
     "output_type": "display_data"
    }
   ],
   "source": [
    "#  Number of Parents/Children Aboard\n",
    "X = data[:,7]\n",
    "X_ones = np.ones_like(X)\n",
    "y_class = data[:,1].astype(np.integer)\n",
    "y_names = y_class.astype(str)\n",
    "y_names[y_class==1] = 'Survived'\n",
    "y_names[y_class==0] = 'Dead'\n",
    "\n",
    "plot_data=[]\n",
    "for my_class in np.unique(y_names):\n",
    "    \n",
    "    sum_my = len(X[y_names==my_class])  # sum of my classes\n",
    "    \n",
    "    for mx_class in np.unique (X):\n",
    "        condit = np.logical_and(X==mx_class, y_names==my_class)\n",
    "        x_weights = round(len(X[condit])/sum_my,2)\n",
    "        plot_data.append ([my_class,mx_class,x_weights])\n",
    "\n",
    "plot_data = np.array(plot_data)\n",
    "plot_data[:,2] = plot_data[:,2].astype(float)\n",
    "#print (plot_data)\n",
    "\n",
    "width = 0.2\n",
    "i_ind = 0\n",
    "col_arr = ['red','green']\n",
    "for my_class in np.unique(y_names):\n",
    "    pl_data = plot_data[plot_data[:,0]==my_class,2].astype(float)\n",
    "    #print (pl_data)\n",
    "    ind = np.arange(len(np.unique(X)))\n",
    "    plt.bar(ind+i_ind*width,pl_data, width, alpha = 0.6, color = col_arr[i_ind], label = my_class)\n",
    "    i_ind = i_ind + 1\n",
    "\n",
    "plt.legend(loc='upper right')\n",
    "plt.ylim ([0,1.2])\n",
    "ind = np.arange(len(np.unique(X)))\n",
    "plt.xticks(ind+width,np.unique(X))\n",
    "plt.title (\"Data by  Number of Parents/Children Aboard\")\n",
    "plt.show()\n"
   ]
  },
  {
   "cell_type": "code",
   "execution_count": 23,
   "metadata": {
    "collapsed": false
   },
   "outputs": [
    {
     "name": "stdout",
     "output_type": "stream",
     "text": [
      "[['PC 17599' '1']\n",
      " ['STON/O2. 3101282' '1']\n",
      " ['113803' '1']\n",
      " ['373450' '0']\n",
      " ['330877' '0']\n",
      " ['17463' '0']\n",
      " ['349909' '0']\n",
      " ['347742' '1']\n",
      " ['237736' '1']]\n"
     ]
    }
   ],
   "source": [
    "# names\n",
    "X = data[:,8]\n",
    "y_class = data[:,1].astype(np.integer)\n",
    "\n",
    "t_d = np.array(list(zip(X, y_class)))\n",
    "print (t_d[1:10])"
   ]
  },
  {
   "cell_type": "code",
   "execution_count": 24,
   "metadata": {
    "collapsed": false
   },
   "outputs": [
    {
     "data": {
      "image/png": "[encoded data removed]",
      "text/plain": [
       "<matplotlib.figure.Figure at 0xb5c84a8>"
      ]
     },
     "metadata": {},
     "output_type": "display_data"
    }
   ],
   "source": [
    "# Fare\n",
    "X = data[:,9]\n",
    "X_weights = np.ones_like(X).astype(float)\n",
    "y_class = data[:,1].astype(np.integer)\n",
    "y_names = y_class.astype(str)\n",
    "y_names[y_class==1] = 'Survived'\n",
    "y_names[y_class==0] = 'Dead'\n",
    "\n",
    "for my_class in np.unique(y_names):\n",
    "   X_weights[y_names == my_class] = 1/sum(y_names == my_class)\n",
    "\n",
    "#print (X[y_names == 'Survived'])\n",
    "\n",
    "width = 0.2\n",
    "i_ind = 0\n",
    "col_arr = ['red','green']\n",
    "for my_class in (\"Dead\",\"Survived\"):\n",
    "    pl_data = X[y_names==my_class].astype(float)\n",
    "    pl_weight = X_weights[y_names==my_class].astype(float)\n",
    "    #print (pl_data)\n",
    "    #ind = np.arange(len(np.unique(X)))\n",
    "    plt.hist(pl_data,\n",
    "             bins = 20,\n",
    "             range = [0,600],\n",
    "             weights = pl_weight,\n",
    "             alpha = 0.5,\n",
    "             label = my_class,\n",
    "             color = col_arr[i_ind])\n",
    "    \n",
    "\n",
    "    i_ind = i_ind + 1\n",
    "\n",
    "    \n",
    "plt.legend(loc='upper right')\n",
    "plt.title (\"Survival rate by Fare\")\n",
    "plt.show()"
   ]
  },
  {
   "cell_type": "code",
   "execution_count": 25,
   "metadata": {
    "collapsed": false,
    "scrolled": true
   },
   "outputs": [
    {
     "name": "stdout",
     "output_type": "stream",
     "text": [
      "['' 'C85' '' 'C123' '' '' 'E46' '' '' '' 'G6' 'C103' '' '' '' '' '' '' ''\n",
      " '']\n",
      "['N', 'C', 'N', 'C', 'N', 'N', 'E', 'N', 'N', 'N', 'G', 'C', 'N', 'N', 'N', 'N', 'N', 'N', 'N', 'N']\n"
     ]
    },
    {
     "data": {
      "image/png": "[encoded data removed]",
      "text/plain": [
       "<matplotlib.figure.Figure at 0xb784668>"
      ]
     },
     "metadata": {},
     "output_type": "display_data"
    }
   ],
   "source": [
    "#  Cabin\n",
    "\n",
    "def first_letter(x):\n",
    "    if x!=\"\":\n",
    "        return x[0]\n",
    "    else:\n",
    "        return \"N\"\n",
    "    \n",
    "print (data[0:20,10])        \n",
    "mp_dt = list(map (first_letter,data[:,10]))\n",
    "print (mp_dt[0:20])\n",
    "\n",
    "\n",
    "X = np.array(mp_dt)\n",
    "X_ones = np.ones_like(X)\n",
    "y_class = data[:,1].astype(np.integer)\n",
    "y_names = y_class.astype(str)\n",
    "y_names[y_class==1] = 'Survived'\n",
    "y_names[y_class==0] = 'Dead'\n",
    "\n",
    "len(X[y_names=='Survived'])\n",
    "\n",
    "plot_data=[]\n",
    "for my_class in np.unique(y_names):\n",
    "    \n",
    "    sum_my = len(X[y_names==my_class])  # sum of my classes\n",
    "    \n",
    "    for mx_class in np.unique (X):\n",
    "        condit = np.logical_and(X==mx_class, y_names==my_class)\n",
    "        x_weights = round(len(X[condit])/sum_my,2)\n",
    "        plot_data.append ([my_class,mx_class,x_weights])\n",
    "\n",
    "plot_data = np.array(plot_data)\n",
    "plot_data[:,2] = plot_data[:,2].astype(float)\n",
    "#print (plot_data)\n",
    "\n",
    "width = 0.2\n",
    "i_ind = 0\n",
    "col_arr = ['red','green']\n",
    "for my_class in np.unique(y_names):\n",
    "    pl_data = plot_data[plot_data[:,0]==my_class,2].astype(float)\n",
    "    #print (pl_data)\n",
    "    ind = np.arange(len(np.unique(X)))\n",
    "    plt.bar(ind+i_ind*width,pl_data, width, alpha = 0.6, color = col_arr[i_ind], label = my_class)\n",
    "    i_ind = i_ind + 1\n",
    "\n",
    "plt.legend(loc='upper right')\n",
    "plt.ylim ([0,1.2])\n",
    "ind = np.arange(len(np.unique(X)))\n",
    "plt.xticks(ind+width,np.unique(X))\n",
    "plt.title (\"Data by  Cabin type\")\n",
    "plt.show()"
   ]
  },
  {
   "cell_type": "code",
   "execution_count": 26,
   "metadata": {
    "collapsed": false,
    "scrolled": false
   },
   "outputs": [
    {
     "name": "stdout",
     "output_type": "stream",
     "text": [
      "[['C104' 'Survived' '113786' 'Peuchen, Major. Arthur Godfrey']\n",
      " ['C106' 'Survived' '19988' 'Saalfeld, Mr. Adolphe']\n",
      " ['C110' 'Dead' '110465' 'Porter, Mr. Walter Chamberlain']\n",
      " ['C111' 'Dead' '113051' 'Foreman, Mr. Benjamin Laventall']\n",
      " ['C118' 'Dead' 'PC 17596' 'Natsch, Mr. Charles H']\n",
      " ['C123' 'Dead' '113803' 'Futrelle, Mr. Jacques Heath']\n",
      " ['C123' 'Survived' '113803' 'Futrelle, Mrs. Jacques Heath (Lily May Peel)']\n",
      " ['C124' 'Dead' '113028' 'Klaber, Mr. Herman']\n",
      " ['C124' 'Dead' '113043' 'Partner, Mr. Austen']\n",
      " ['C125' 'Survived' 'PC 17582' 'Shutes, Miss. Elizabeth W']\n",
      " ['C125' 'Survived' 'PC 17582'\n",
      "  'Graham, Mrs. William Thompson (Edith Junkins)']\n",
      " ['C126' 'Survived' '19996'\n",
      "  'Taylor, Mrs. Elmer Zebley (Juliet Cummins Wright)']\n",
      " ['C126' 'Survived' '19996' 'Taylor, Mr. Elmer Zebley']\n",
      " ['C128' 'Dead' '113510' 'Williams-Lambert, Mr. Fletcher Fellows']\n",
      " ['C148' 'Survived' '111369' 'Behr, Mr. Karl Howell']\n",
      " ['C2' 'Dead' '113776' 'Pears, Mr. Thomas Clinton']\n",
      " ['C2' 'Survived' '113776' 'Pears, Mrs. Thomas (Edith Wearne)']\n",
      " ['C22 C26' 'Dead' '113781' 'Allison, Miss. Helen Loraine']\n",
      " ['C22 C26' 'Dead' '113781'\n",
      "  'Allison, Mrs. Hudson J C (Bessie Waldo Daniels)']\n",
      " ['C22 C26' 'Survived' '113781' 'Allison, Master. Hudson Trevor']\n",
      " ['C23 C25 C27' 'Survived' '19950' 'Fortune, Miss. Mabel Helen']\n",
      " ['C23 C25 C27' 'Dead' '19950' 'Fortune, Mr. Mark']\n",
      " ['C23 C25 C27' 'Survived' '19950' 'Fortune, Miss. Alice Elizabeth']\n",
      " ['C23 C25 C27' 'Dead' '19950' 'Fortune, Mr. Charles Alexander']\n",
      " ['C30' 'Dead' '113787' 'Molson, Mr. Harry Markland']\n",
      " ['C32' 'Survived' 'PC 17760' 'Young, Miss. Marie Grice']\n",
      " ['C45' 'Survived' 'PC 17757' 'Endres, Miss. Caroline Louise']\n",
      " ['C46' 'Dead' '19877' 'Cavendish, Mr. Tyrell William']\n",
      " ['C47' 'Survived' '11774' 'Marechal, Mr. Pierre']\n",
      " ['C49' 'Dead' 'PC 17595' 'Isham, Miss. Ann Elizabeth']\n",
      " ['C50' 'Survived' '11767' 'Potter, Mrs. Thomas Jr (Lily Alexenia Wilson)']\n",
      " ['C52' 'Survived' '110564' 'Bjornstrom-Steffansson, Mr. Mauritz Hakan']\n",
      " ['C52' 'Survived' '19947' 'Woolner, Mr. Hugh']\n",
      " ['C54' 'Survived' '11767' 'Hays, Miss. Margaret Bechstein']\n",
      " ['C62 C64' 'Survived' 'PC 17757'\n",
      "  'Astor, Mrs. John Jacob (Madeleine Talmadge Force)']\n",
      " ['C65' 'Dead' 'PC 17758' 'Penasco y Castellana, Mr. Victor de Satode']\n",
      " ['C65' 'Survived' 'PC 17758'\n",
      "  'Penasco y Castellana, Mrs. Victor de Satode (Maria Josefa Perez de Soto y Vallejo)']\n",
      " ['C68' 'Survived' '17421'\n",
      "  'Thayer, Mrs. John Borland (Marian Longstreth Morris)']\n",
      " ['C68' 'Dead' '17421' 'Thayer, Mr. John Borland']\n",
      " ['C7' 'Survived' '36928' 'Wick, Miss. Mary Natalie']\n",
      " ['C70' 'Survived' '17421' 'Thayer, Mr. John Borland Jr']\n",
      " ['C78' 'Dead' '19928' 'Minahan, Dr. William Edward']\n",
      " ['C78' 'Survived' '19928' 'Minahan, Miss. Daisy E']\n",
      " ['C82' 'Dead' '113503' 'Widener, Mr. Harry Elkins']\n",
      " ['C83' 'Dead' '36973' 'Harris, Mr. Henry Birkhardt']\n",
      " ['C83' 'Survived' '36973' 'Harris, Mrs. Henry Birkhardt (Irene Wallach)']\n",
      " ['C85' 'Survived' 'PC 17599'\n",
      "  'Cumings, Mrs. John Bradley (Florence Briggs Thayer)']\n",
      " ['C86' 'Dead' 'PC 17761' 'Douglas, Mr. Walter Donald']\n",
      " ['C87' 'Dead' '113514' 'Stead, Mr. William Thomas']\n",
      " ['C90' 'Survived' 'PC 17482'\n",
      "  'Mayne, Mlle. Berthe Antonine (\"Mrs de Villiers\")']]\n"
     ]
    }
   ],
   "source": [
    "#  Cabin\n",
    "\n",
    "X = data[:,10]\n",
    "X_ticket = data[:,8]\n",
    "X_name = data[:,3]\n",
    "X_ones = np.ones_like(X)\n",
    "y_class = data[:,1].astype(np.integer)\n",
    "y_names = y_class.astype(str)\n",
    "y_names[y_class==1] = 'Survived'\n",
    "y_names[y_class==0] = 'Dead'\n",
    "\n",
    "\n",
    "cabin_data = np.array(list(zip (X,y_names,X_ticket, X_name)))\n",
    "ind_sort = np.argsort(cabin_data[:,0])\n",
    "cabin_data = cabin_data[ind_sort,:]\n",
    "\n",
    "n= 751\n",
    "print (cabin_data[n:(n+50)])"
   ]
  },
  {
   "cell_type": "code",
   "execution_count": 27,
   "metadata": {
    "collapsed": false
   },
   "outputs": [
    {
     "data": {
      "image/png": "[encoded data removed]",
      "text/plain": [
       "<matplotlib.figure.Figure at 0x940cd30>"
      ]
     },
     "metadata": {},
     "output_type": "display_data"
    }
   ],
   "source": [
    "#  Embarked\n",
    "\n",
    "X = data[:,11]\n",
    "X_ones = np.ones_like(X)\n",
    "y_class = data[:,1].astype(np.integer)\n",
    "y_names = y_class.astype(str)\n",
    "y_names[y_class==1] = 'Survived'\n",
    "y_names[y_class==0] = 'Dead'\n",
    "\n",
    "len(X[y_names=='Survived'])\n",
    "\n",
    "plot_data=[]\n",
    "for my_class in np.unique(y_names):\n",
    "    \n",
    "    sum_my = len(X[y_names==my_class])  # sum of my classes\n",
    "    \n",
    "    for mx_class in np.unique (X):\n",
    "        condit = np.logical_and(X==mx_class, y_names==my_class)\n",
    "        x_weights = round(len(X[condit])/sum_my,2)\n",
    "        plot_data.append ([my_class,mx_class,x_weights])\n",
    "\n",
    "plot_data = np.array(plot_data)\n",
    "plot_data[:,2] = plot_data[:,2].astype(float)\n",
    "#print (plot_data)\n",
    "\n",
    "width = 0.2\n",
    "i_ind = 0\n",
    "col_arr = ['red','green']\n",
    "for my_class in np.unique(y_names):\n",
    "    pl_data = plot_data[plot_data[:,0]==my_class,2].astype(float)\n",
    "    #print (pl_data)\n",
    "    ind = np.arange(len(np.unique(X)))\n",
    "    plt.bar(ind+i_ind*width,pl_data, width, alpha = 0.6, color = col_arr[i_ind], label = my_class)\n",
    "    i_ind = i_ind + 1\n",
    "\n",
    "plt.legend(loc='upper right')\n",
    "plt.ylim ([0,1.2])\n",
    "ind = np.arange(len(np.unique(X)))\n",
    "plt.xticks(ind+width,np.unique(X))\n",
    "plt.title (\"Data by  Cabin type\")\n",
    "plt.show()"
   ]
  },
  {
   "cell_type": "code",
   "execution_count": 28,
   "metadata": {
    "collapsed": false
   },
   "outputs": [
    {
     "name": "stdout",
     "output_type": "stream",
     "text": [
      "[['0.0' 'Mockler, Miss. Helen Mary \"Ellie\"' 'Survived']\n",
      " ['0.0' 'Goldenberg, Mrs. Samuel L (Edwiga Grabowska)' 'Survived']\n",
      " ['0.0' 'Sage, Mr. Douglas Bullen' 'Dead']\n",
      " ['0.0' 'Mamee, Mr. Hanna' 'Survived']\n",
      " ['0.0' 'McGovern, Miss. Mary' 'Survived']\n",
      " ['0.0' 'Flynn, Mr. James' 'Dead']\n",
      " ['0.0' 'Thorneycroft, Mrs. Percival (Florence Kate White)' 'Survived']\n",
      " ['0.0' 'Yousif, Mr. Wazli' 'Dead']\n",
      " ['0.0' 'Williams-Lambert, Mr. Fletcher Fellows' 'Dead']\n",
      " ['0.0' 'Kraeff, Mr. Theodor' 'Dead']\n",
      " ['0.0' 'Rogers, Mr. William John' 'Dead']\n",
      " ['0.0' \"O'Sullivan, Miss. Bridget Mary\" 'Dead']\n",
      " ['0.0' \"O'Driscoll, Miss. Bridget\" 'Survived']\n",
      " ['0.0' 'Samaan, Mr. Youssef' 'Dead']\n",
      " ['0.0' 'Davison, Mrs. Thomas Henry (Mary E Finck)' 'Survived']\n",
      " ['0.0' 'Johannesen-Bratthammer, Mr. Bernt' 'Survived']\n",
      " ['0.0' 'Hagland, Mr. Ingvald Olai Olsen' 'Dead']\n",
      " ['0.0' 'Wiseman, Mr. Phillippe' 'Dead']\n",
      " ['0.0' 'Todoroff, Mr. Lalio' 'Dead']\n",
      " ['0.0' 'O\\'Dwyer, Miss. Ellen \"Nellie\"' 'Survived']]\n"
     ]
    }
   ],
   "source": [
    "#  Age vs Name\n",
    "\n",
    "X_name = np.copy(data[::,3])\n",
    "X_age = np.copy(data[::,5])\n",
    "\n",
    "X_age[X_age==\"\"] = -1\n",
    "X_age = X_age.astype(float)\n",
    "\n",
    "y_class = data[:,1].astype(np.integer)\n",
    "y_names = y_class.astype(str)\n",
    "y_names[y_class==1] = 'Survived'\n",
    "y_names[y_class==0] = 'Dead'\n",
    "\n",
    "\n",
    "cabin_data = np.array(list(zip (X_age, X_name,y_names)))\n",
    "\n",
    "ind_sort = np.argsort(X_age)\n",
    "cabin_data = cabin_data[ind_sort,:]\n",
    "\n",
    "n= 100\n",
    "print (cabin_data[n:(n+20)])"
   ]
  },
  {
   "cell_type": "code",
   "execution_count": 29,
   "metadata": {
    "collapsed": false
   },
   "outputs": [
    {
     "name": "stdout",
     "output_type": "stream",
     "text": [
      "Ticket\n",
      "\n"
     ]
    },
    {
     "data": {
      "image/png": "[encoded data removed]",
      "text/plain": [
       "<matplotlib.figure.Figure at 0xaa01588>"
      ]
     },
     "metadata": {},
     "output_type": "display_data"
    }
   ],
   "source": [
    "print(header[8])\n",
    "X = np.copy(data[::,8])\n",
    "x1 = list(map (lambda x: sum(data[::,8]==x),data[::,8]))\n",
    "#X = np.column_stack((X,x1))\n",
    "X = np.array(x1)\n",
    "print ()\n",
    "y_class = data[:,1].astype(np.integer)\n",
    "y_names = y_class.astype(str)\n",
    "y_names[y_class==1] = 'Survived'\n",
    "y_names[y_class==0] = 'Dead'\n",
    "\n",
    "len(X[y_names=='Survived'])\n",
    "\n",
    "plot_data=[]\n",
    "for my_class in np.unique(y_names):\n",
    "    \n",
    "    sum_my = len(X[y_names==my_class])  # sum of my classes\n",
    "    \n",
    "    for mx_class in np.unique (X):\n",
    "        condit = np.logical_and(X==mx_class, y_names==my_class)\n",
    "        x_weights = round(len(X[condit])/sum_my,2)\n",
    "        plot_data.append ([my_class,mx_class,x_weights])\n",
    "\n",
    "plot_data = np.array(plot_data)\n",
    "plot_data[:,2] = plot_data[:,2].astype(float)\n",
    "#print (plot_data)\n",
    "\n",
    "width = 0.2\n",
    "i_ind = 0\n",
    "col_arr = ['red','green']\n",
    "for my_class in np.unique(y_names):\n",
    "    pl_data = plot_data[plot_data[:,0]==my_class,2].astype(float)\n",
    "    #print (pl_data)\n",
    "    ind = np.arange(len(np.unique(X)))\n",
    "    plt.bar(ind+i_ind*width,pl_data, width, alpha = 0.6, color = col_arr[i_ind], label = my_class)\n",
    "    i_ind = i_ind + 1\n",
    "\n",
    "plt.legend(loc='upper right')\n",
    "plt.ylim ([0,1.2])\n",
    "ind = np.arange(len(np.unique(X)))\n",
    "plt.xticks(ind+width,np.unique(X))\n",
    "plt.title (\"Data by number of people with the same ticket\")\n",
    "plt.show()"
   ]
  },
  {
   "cell_type": "code",
   "execution_count": 30,
   "metadata": {
    "collapsed": false
   },
   "outputs": [
    {
     "name": "stdout",
     "output_type": "stream",
     "text": [
      "Survived ,  Ticket\n",
      "668\n",
      "\n",
      "891\n",
      "891\n"
     ]
    },
    {
     "data": {
      "image/png": "[encoded data removed]",
      "text/plain": [
       "<matplotlib.figure.Figure at 0x940e780>"
      ]
     },
     "metadata": {},
     "output_type": "display_data"
    }
   ],
   "source": [
    "def same_room_surv (x_ticket,x_name, my_data):\n",
    "    #print (my_data[i_ind,8])\n",
    "    vect = np.column_stack((my_data[::,8]==x_ticket,my_data[:,1]=='1',my_data[:,3]!=x_name))\n",
    "    vect = np.all(vect,axis=1)\n",
    "    return(sum(vect))\n",
    "\n",
    "\n",
    "print(header[1],\", \",header[8])\n",
    "\n",
    "max_length = int(round(data.shape[0]*0.75,0))\n",
    "print (max_length)\n",
    "\n",
    "x1 = list(map (lambda x: same_room_surv(data[x,8],data[x,3],data[:max_length,]),range(data.shape[0])))\n",
    "\n",
    "#print (x1)\n",
    "#x1[8]\n",
    "#print (data[data[:,8]=='347742',:])\n",
    "\n",
    "\n",
    "\n",
    "X = np.array(x1)\n",
    "print ()\n",
    "y_class = data[:,1].astype(np.integer)\n",
    "y_names = y_class.astype(str)\n",
    "y_names[y_class==1] = 'Survived'\n",
    "y_names[y_class==0] = 'Dead'\n",
    "\n",
    "print (len(X))\n",
    "#X = X[max_length:]\n",
    "#y_names = y_names[max_length:]\n",
    "print (len(X))\n",
    "\n",
    "plot_data=[]\n",
    "for my_class in np.unique(y_names):\n",
    "    \n",
    "    sum_my = len(X[y_names==my_class])  # sum of my classes\n",
    "    \n",
    "    for mx_class in np.unique (X):\n",
    "        condit = np.logical_and(X==mx_class, y_names==my_class)\n",
    "        x_weights = round(len(X[condit])/sum_my,2)\n",
    "        plot_data.append ([my_class,mx_class,x_weights])\n",
    "\n",
    "plot_data = np.array(plot_data)\n",
    "plot_data[:,2] = plot_data[:,2].astype(float)\n",
    "#print (plot_data)\n",
    "\n",
    "width = 0.2\n",
    "i_ind = 0\n",
    "col_arr = ['red','green']\n",
    "for my_class in np.unique(y_names):\n",
    "    pl_data = plot_data[plot_data[:,0]==my_class,2].astype(float)\n",
    "    #print (pl_data)\n",
    "    ind = np.arange(len(np.unique(X)))\n",
    "    plt.bar(ind+i_ind*width,pl_data, width, alpha = 0.6, color = col_arr[i_ind], label = my_class)\n",
    "    i_ind = i_ind + 1\n",
    "\n",
    "plt.legend(loc='upper right')\n",
    "plt.ylim ([0,1.2])\n",
    "ind = np.arange(len(np.unique(X)))\n",
    "plt.xticks(ind+width,np.unique(X))\n",
    "plt.title (\"Data by number of people with the same ticket\")\n",
    "plt.show()"
   ]
  }
 ],
 "metadata": {
  "kernelspec": {
   "display_name": "Python 3",
   "language": "python",
   "name": "python3"
  },
  "language_info": {
   "codemirror_mode": {
    "name": "ipython",
    "version": 3
   },
   "file_extension": ".py",
   "mimetype": "text/x-python",
   "name": "python",
   "nbconvert_exporter": "python",
   "pygments_lexer": "ipython3",
   "version": "3.4.3"
  }
 },
 "nbformat": 4,
 "nbformat_minor": 0
}
