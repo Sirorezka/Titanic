{
 "cells": [
  {
   "cell_type": "markdown",
   "metadata": {},
   "source": [
    "# Creating graphs for Titanic data"
   ]
  },
  {
   "cell_type": "markdown",
   "metadata": {},
   "source": [
    "First set up  the directory with the data"
   ]
  },
  {
   "cell_type": "code",
   "execution_count": 299,
   "metadata": {
    "collapsed": false
   },
   "outputs": [],
   "source": [
    "#%matplotlib notebook\n",
    "%matplotlib inline\n",
    "\n",
    "import csv as csv\n",
    "import numpy as np\n",
    "import plotly\n",
    "import  matplotlib.mlab  as mlab\n",
    "import matplotlib.pyplot as plt\n",
    "import matplotlib.pylab as pl\n",
    "\n",
    "my_project_dir = \"C:\\\\Users\\Johnny\\Documents\\GitHub\\Titanic\\kaggle_data\\\\\"\n"
   ]
  },
  {
   "cell_type": "markdown",
   "metadata": {},
   "source": [
    "Load and preview the data"
   ]
  },
  {
   "cell_type": "code",
   "execution_count": 300,
   "metadata": {
    "collapsed": false,
    "scrolled": true
   },
   "outputs": [
    {
     "name": "stdout",
     "output_type": "stream",
     "text": [
      "['PassengerId', 'Survived', 'Pclass', 'Name', 'Sex', 'Age', 'SibSp', 'Parch', 'Ticket', 'Fare', 'Cabin', 'Embarked']\n",
      "[['1' '0' '3' 'Braund, Mr. Owen Harris' 'male' '22' '1' '0' 'A/5 21171'\n",
      "  '7.25' '' 'S']\n",
      " ['2' '1' '1' 'Cumings, Mrs. John Bradley (Florence Briggs Thayer)'\n",
      "  'female' '38' '1' '0' 'PC 17599' '71.2833' 'C85' 'C']]\n"
     ]
    }
   ],
   "source": [
    "csv_file_object = csv.reader(open(my_project_dir + 'train.csv', 'r'))       # Load in the csv file\n",
    "header = next(csv_file_object)                     # Skip the fist line as it is a header\n",
    "data=[]                                            # Create a variable to hold the data\n",
    "\n",
    "for row in csv_file_object:                        # Skip through each row in the csv file,\n",
    "    data.append(row[0:])                           # adding each row to the data variable\n",
    "    \n",
    "\n",
    "data = np.array(data)                              # importing data as np array\n",
    "print (header[:])\n",
    "print (data[0:2,:])\n"
   ]
  },
  {
   "cell_type": "code",
   "execution_count": 301,
   "metadata": {
    "collapsed": false
   },
   "outputs": [],
   "source": [
    "def sum_groups (arr_groups,arr_data):\n",
    "    unique_groups = np.unique(arr_groups)\n",
    "    arr_sums = []\n",
    "    for group in unique_groups:\n",
    "        arr_sums.append(arr_data[arr_groups == group].sum())\n",
    "    \n",
    "    return unique_groups,arr_sums"
   ]
  },
  {
   "cell_type": "code",
   "execution_count": 444,
   "metadata": {
    "collapsed": false
   },
   "outputs": [
    {
     "data": {
      "image/png": "[encoded data removed]",
      "text/plain": [
       "<matplotlib.figure.Figure at 0x15de5e10>"
      ]
     },
     "metadata": {},
     "output_type": "display_data"
    }
   ],
   "source": [
    "X = data[:,1].astype(np.float)\n",
    "\n",
    "X_weights = np.ones_like(X)/float(len(X))   \n",
    "\n",
    "\n",
    "n, bins, patches = plt.hist(X, 4, weights = X_weights,  facecolor='g', alpha=0.75)\n",
    "plt.title('Number of Survived and dead \\n 1 - survived, 0 - dead')\n",
    "plt.show()\n",
    "\n",
    "#print (n,bins, patches[:])\n",
    "\n"
   ]
  },
  {
   "cell_type": "code",
   "execution_count": 303,
   "metadata": {
    "collapsed": false
   },
   "outputs": [
    {
     "data": {
      "image/png": "[encoded data removed]",
      "text/plain": [
       "<matplotlib.figure.Figure at 0x12808d30>"
      ]
     },
     "metadata": {},
     "output_type": "display_data"
    }
   ],
   "source": [
    "# Selecting data\n",
    "y_class = data[:,1].astype(np.integer)\n",
    "X = np.ones_like(y)\n",
    "y_groups, X_data = sum_groups (y_class, X)\n",
    "X_data = X_data/sum(X_data)\n",
    "#print ([X_data[0]],X_data[1])\n",
    "\n",
    "# Plotting the data\n",
    "width = 0.35\n",
    "ind = np.arange(len(y_groups))\n",
    "\n",
    "fig, ax = plt.subplots()\n",
    "ax.bar(ind,X_data, width)\n",
    "pl.xticks(ind + width/2,['Dead', 'Survived'])\n",
    "plt.title('Number of Survived and dead')\n",
    "pl.show()\n",
    "\n",
    "\n",
    "#rects1 = plt.bar(index, means_men)\n",
    "\n",
    "#data2 = [[np.random.rand(100)] for i in range(3)]\n",
    "#pl.boxplot(data2)\n",
    "#pl.xticks([1, 2, 3], ['mon', 'tue', 'wed'])\n",
    "#pl.show()"
   ]
  },
  {
   "cell_type": "code",
   "execution_count": 304,
   "metadata": {
    "collapsed": false
   },
   "outputs": [
    {
     "data": {
      "text/plain": [
       "<matplotlib.legend.Legend at 0x127ba470>"
      ]
     },
     "execution_count": 304,
     "metadata": {},
     "output_type": "execute_result"
    },
    {
     "data": {
      "image/png": "[encoded data removed]",
      "text/plain": [
       "<matplotlib.figure.Figure at 0x127ba080>"
      ]
     },
     "metadata": {},
     "output_type": "display_data"
    }
   ],
   "source": [
    "# passenger class\n",
    "X = data[:,2].astype(np.float)\n",
    "y_class = data[:,1].astype(np.integer)\n",
    "\n",
    "X_weights = []\n",
    "for d_class in np.unique(y_class):\n",
    "    ones_group = np.ones_like(X[y_class==d_class])\n",
    "    X_weights.append(ones_group/len(X[y_class==d_class]))\n",
    "\n",
    "#print (X_weights)\n",
    "width = 0.15\n",
    "ind = np.arange(len(np.unique(X)))+1\n",
    "\n",
    "plt.title('Passenger Class')\n",
    "plt.hist((X[y_class==0],X[y_class==1]),\n",
    "         color=(\"r\",\"g\"), \n",
    "         weights= X_weights, \n",
    "         alpha=0.5, \n",
    "         label = (\"Dead\",\"Survived\"))\n",
    "\n",
    "plt.xticks(ind,['Class 1', 'Class 2','Class 3'])\n",
    "\n",
    "\n",
    "#plt.hist(,color=\"g\", alpha=0.5, stacked=True, label = \"Survived\")\n",
    "plt.legend(loc='upper right')"
   ]
  },
  {
   "cell_type": "code",
   "execution_count": 326,
   "metadata": {
    "collapsed": false
   },
   "outputs": [
    {
     "name": "stdout",
     "output_type": "stream",
     "text": [
      "[['Cumings, Mrs. John Bradley (Florence Briggs Thayer)' '1']\n",
      " ['Heikkinen, Miss. Laina' '1']\n",
      " ['Futrelle, Mrs. Jacques Heath (Lily May Peel)' '1']\n",
      " ['Allen, Mr. William Henry' '0']\n",
      " ['Moran, Mr. James' '0']\n",
      " ['McCarthy, Mr. Timothy J' '0']\n",
      " ['Palsson, Master. Gosta Leonard' '0']\n",
      " ['Johnson, Mrs. Oscar W (Elisabeth Vilhelmina Berg)' '1']\n",
      " ['Nasser, Mrs. Nicholas (Adele Achem)' '1']]\n"
     ]
    }
   ],
   "source": [
    "# names\n",
    "X = data[:,3]\n",
    "y_class = data[:,1].astype(np.integer)\n",
    "\n",
    "t_d = np.array(list(zip(X, y_class)))\n",
    "print (t_d[1:10])\n"
   ]
  },
  {
   "cell_type": "code",
   "execution_count": 405,
   "metadata": {
    "collapsed": false
   },
   "outputs": [
    {
     "data": {
      "image/png": "[encoded data removed]",
      "text/plain": [
       "<matplotlib.figure.Figure at 0x146416d8>"
      ]
     },
     "metadata": {},
     "output_type": "display_data"
    }
   ],
   "source": [
    "# sex\n",
    "X = data[:,4]\n",
    "X_ones = np.ones_like(X)\n",
    "y_class = data[:,1].astype(np.integer)\n",
    "y_names = y_class.astype(str)\n",
    "y_names[y_class==1] = 'Survived'\n",
    "y_names[y_class==0] = 'Dead'\n",
    "\n",
    "plot_data=[]\n",
    "for my_class in np.unique(y_names):\n",
    "    \n",
    "    sum_my = len(X[y_names==my_class])  # sum of my classes\n",
    "    \n",
    "    for mx_class in np.unique (X):\n",
    "        condit = np.logical_and(X==mx_class, y_names==my_class)\n",
    "        x_weights = round(len(X[condit])/sum_my,2)\n",
    "        plot_data.append ([my_class,mx_class,x_weights])\n",
    "\n",
    "plot_data = np.array(plot_data)\n",
    "plot_data[:,2] = plot_data[:,2].astype(float)\n",
    "#print (plot_data)\n",
    "\n",
    "width = 0.2\n",
    "i_ind = 0\n",
    "col_arr = ['red','green']\n",
    "for my_class in np.unique(y_names):\n",
    "    pl_data = plot_data[plot_data[:,0]==my_class,2].astype(float)\n",
    "    #print (pl_data)\n",
    "    ind = np.arange(len(np.unique(X)))\n",
    "    plt.bar(ind+i_ind*width,pl_data, width, alpha = 0.6, color = col_arr[i_ind], label = my_class)\n",
    "    i_ind = i_ind + 1\n",
    "\n",
    "plt.legend(loc='upper right')\n",
    "plt.ylim ([0,1.2])\n",
    "ind = np.arange(len(np.unique(X)))\n",
    "plt.xticks(ind+width,np.unique(X))\n",
    "plt.title (\"Data by sex\")\n",
    "plt.show()"
   ]
  },
  {
   "cell_type": "code",
   "execution_count": 435,
   "metadata": {
    "collapsed": false
   },
   "outputs": [
    {
     "data": {
      "image/png": "[encoded data removed]",
      "text/plain": [
       "<matplotlib.figure.Figure at 0x15ae2cc0>"
      ]
     },
     "metadata": {},
     "output_type": "display_data"
    }
   ],
   "source": [
    "# age\n",
    "X = data[:,5]\n",
    "X[X==\"\"] = 0\n",
    "X_weights = np.ones_like(X).astype(float)\n",
    "y_class = data[:,1].astype(np.integer)\n",
    "y_names = y_class.astype(str)\n",
    "y_names[y_class==1] = 'Survived'\n",
    "y_names[y_class==0] = 'Dead'\n",
    "y_names[X=='0'] = 'not defined'\n",
    "\n",
    "for my_class in np.unique(y_names):\n",
    "   X_weights[y_names == my_class] = 1/sum(y_names == my_class)\n",
    "\n",
    "#print (X[y_names == 'Survived'])\n",
    "\n",
    "width = 0.2\n",
    "i_ind = 0\n",
    "col_arr = ['red','green']\n",
    "for my_class in (\"Dead\",\"Survived\"):\n",
    "    pl_data = X[y_names==my_class].astype(float)\n",
    "    pl_weight = X_weights[y_names==my_class].astype(float)\n",
    "    #print (pl_data)\n",
    "    #ind = np.arange(len(np.unique(X)))\n",
    "    plt.hist(pl_data,\n",
    "             bins = 20,\n",
    "             range = [0,100],\n",
    "             weights = pl_weight,\n",
    "             alpha = 0.5,\n",
    "             label = my_class,\n",
    "             color = col_arr[i_ind])\n",
    "    \n",
    "\n",
    "    i_ind = i_ind + 1\n",
    "\n",
    "    \n",
    "plt.legend(loc='upper right')\n",
    "plt.title (\"Survival rate by age\")\n",
    "plt.show()"
   ]
  },
  {
   "cell_type": "code",
   "execution_count": 440,
   "metadata": {
    "collapsed": false
   },
   "outputs": [
    {
     "data": {
      "image/png": "[encoded data removed]",
      "text/plain": [
       "<matplotlib.figure.Figure at 0x15d8e3c8>"
      ]
     },
     "metadata": {},
     "output_type": "display_data"
    }
   ],
   "source": [
    "# Number of Siblings\n",
    "X = data[:,6]\n",
    "X_ones = np.ones_like(X)\n",
    "y_class = data[:,1].astype(np.integer)\n",
    "y_names = y_class.astype(str)\n",
    "y_names[y_class==1] = 'Survived'\n",
    "y_names[y_class==0] = 'Dead'\n",
    "\n",
    "plot_data=[]\n",
    "for my_class in np.unique(y_names):\n",
    "    \n",
    "    sum_my = len(X[y_names==my_class])  # sum of my classes\n",
    "    \n",
    "    for mx_class in np.unique (X):\n",
    "        condit = np.logical_and(X==mx_class, y_names==my_class)\n",
    "        x_weights = round(len(X[condit])/sum_my,2)\n",
    "        plot_data.append ([my_class,mx_class,x_weights])\n",
    "\n",
    "plot_data = np.array(plot_data)\n",
    "plot_data[:,2] = plot_data[:,2].astype(float)\n",
    "#print (plot_data)\n",
    "\n",
    "width = 0.2\n",
    "i_ind = 0\n",
    "col_arr = ['red','green']\n",
    "for my_class in np.unique(y_names):\n",
    "    pl_data = plot_data[plot_data[:,0]==my_class,2].astype(float)\n",
    "    #print (pl_data)\n",
    "    ind = np.arange(len(np.unique(X)))\n",
    "    plt.bar(ind+i_ind*width,pl_data, width, alpha = 0.6, color = col_arr[i_ind], label = my_class)\n",
    "    i_ind = i_ind + 1\n",
    "\n",
    "plt.legend(loc='upper right')\n",
    "plt.ylim ([0,1.2])\n",
    "ind = np.arange(len(np.unique(X)))\n",
    "plt.xticks(ind+width,np.unique(X))\n",
    "plt.title (\"Data by Siblings/Spouses Aboard\")\n",
    "plt.show()"
   ]
  },
  {
   "cell_type": "code",
   "execution_count": null,
   "metadata": {
    "collapsed": true
   },
   "outputs": [],
   "source": []
  },
  {
   "cell_type": "code",
   "execution_count": 442,
   "metadata": {
    "collapsed": false
   },
   "outputs": [
    {
     "data": {
      "image/png": "[encoded data removed]",
      "text/plain": [
       "<matplotlib.figure.Figure at 0x15d29dd8>"
      ]
     },
     "metadata": {},
     "output_type": "display_data"
    }
   ],
   "source": [
    "#  Number of Parents/Children Aboard\n",
    "X = data[:,7]\n",
    "X_ones = np.ones_like(X)\n",
    "y_class = data[:,1].astype(np.integer)\n",
    "y_names = y_class.astype(str)\n",
    "y_names[y_class==1] = 'Survived'\n",
    "y_names[y_class==0] = 'Dead'\n",
    "\n",
    "plot_data=[]\n",
    "for my_class in np.unique(y_names):\n",
    "    \n",
    "    sum_my = len(X[y_names==my_class])  # sum of my classes\n",
    "    \n",
    "    for mx_class in np.unique (X):\n",
    "        condit = np.logical_and(X==mx_class, y_names==my_class)\n",
    "        x_weights = round(len(X[condit])/sum_my,2)\n",
    "        plot_data.append ([my_class,mx_class,x_weights])\n",
    "\n",
    "plot_data = np.array(plot_data)\n",
    "plot_data[:,2] = plot_data[:,2].astype(float)\n",
    "#print (plot_data)\n",
    "\n",
    "width = 0.2\n",
    "i_ind = 0\n",
    "col_arr = ['red','green']\n",
    "for my_class in np.unique(y_names):\n",
    "    pl_data = plot_data[plot_data[:,0]==my_class,2].astype(float)\n",
    "    #print (pl_data)\n",
    "    ind = np.arange(len(np.unique(X)))\n",
    "    plt.bar(ind+i_ind*width,pl_data, width, alpha = 0.6, color = col_arr[i_ind], label = my_class)\n",
    "    i_ind = i_ind + 1\n",
    "\n",
    "plt.legend(loc='upper right')\n",
    "plt.ylim ([0,1.2])\n",
    "ind = np.arange(len(np.unique(X)))\n",
    "plt.xticks(ind+width,np.unique(X))\n",
    "plt.title (\"Data by  Number of Parents/Children Aboard\")\n",
    "plt.show()\n"
   ]
  },
  {
   "cell_type": "code",
   "execution_count": 447,
   "metadata": {
    "collapsed": false
   },
   "outputs": [
    {
     "name": "stdout",
     "output_type": "stream",
     "text": [
      "[['PC 17599' '1']\n",
      " ['STON/O2. 3101282' '1']\n",
      " ['113803' '1']\n",
      " ['373450' '0']\n",
      " ['330877' '0']\n",
      " ['17463' '0']\n",
      " ['349909' '0']\n",
      " ['347742' '1']\n",
      " ['237736' '1']]\n"
     ]
    }
   ],
   "source": [
    "# names\n",
    "X = data[:,8]\n",
    "y_class = data[:,1].astype(np.integer)\n",
    "\n",
    "t_d = np.array(list(zip(X, y_class)))\n",
    "print (t_d[1:10])"
   ]
  },
  {
   "cell_type": "code",
   "execution_count": 449,
   "metadata": {
    "collapsed": false
   },
   "outputs": [
    {
     "data": {
      "image/png": "[encoded data removed]",
      "text/plain": [
       "<matplotlib.figure.Figure at 0x146e5550>"
      ]
     },
     "metadata": {},
     "output_type": "display_data"
    }
   ],
   "source": [
    "# age\n",
    "X = data[:,9]\n",
    "X[X==\"\"] = 0\n",
    "X_weights = np.ones_like(X).astype(float)\n",
    "y_class = data[:,1].astype(np.integer)\n",
    "y_names = y_class.astype(str)\n",
    "y_names[y_class==1] = 'Survived'\n",
    "y_names[y_class==0] = 'Dead'\n",
    "y_names[X=='0'] = 'not defined'\n",
    "\n",
    "for my_class in np.unique(y_names):\n",
    "   X_weights[y_names == my_class] = 1/sum(y_names == my_class)\n",
    "\n",
    "#print (X[y_names == 'Survived'])\n",
    "\n",
    "width = 0.2\n",
    "i_ind = 0\n",
    "col_arr = ['red','green']\n",
    "for my_class in (\"Dead\",\"Survived\"):\n",
    "    pl_data = X[y_names==my_class].astype(float)\n",
    "    pl_weight = X_weights[y_names==my_class].astype(float)\n",
    "    #print (pl_data)\n",
    "    #ind = np.arange(len(np.unique(X)))\n",
    "    plt.hist(pl_data,\n",
    "             bins = 20,\n",
    "             range = [0,600],\n",
    "             weights = pl_weight,\n",
    "             alpha = 0.5,\n",
    "             label = my_class,\n",
    "             color = col_arr[i_ind])\n",
    "    \n",
    "\n",
    "    i_ind = i_ind + 1\n",
    "\n",
    "    \n",
    "plt.legend(loc='upper right')\n",
    "plt.title (\"Survival rate by age\")\n",
    "plt.show()"
   ]
  }
 ],
 "metadata": {
  "kernelspec": {
   "display_name": "Python 3",
   "language": "python",
   "name": "python3"
  },
  "language_info": {
   "codemirror_mode": {
    "name": "ipython",
    "version": 3
   },
   "file_extension": ".py",
   "mimetype": "text/x-python",
   "name": "python",
   "nbconvert_exporter": "python",
   "pygments_lexer": "ipython3",
   "version": "3.4.3"
  }
 },
 "nbformat": 4,
 "nbformat_minor": 0
}
