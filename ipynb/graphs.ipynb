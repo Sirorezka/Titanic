{
 "cells": [
  {
   "cell_type": "code",
   "execution_count": 141,
   "metadata": {
    "collapsed": false
   },
   "outputs": [
    {
     "name": "stdout",
     "output_type": "stream",
     "text": [
      "C:\\Users\\Johnny\\Documents\\GitHub\\Titanic\\kaggle_data\\\n"
     ]
    }
   ],
   "source": [
    "#%matplotlib notebook\n",
    "%matplotlib inline\n",
    "\n",
    "import csv as csv\n",
    "import numpy as np\n",
    "import plotly\n",
    "import  matplotlib.mlab  as mlab\n",
    "import matplotlib.pyplot as plt\n",
    "import matplotlib.pylab as pl\n",
    "\n",
    "my_project_dir = \"C:\\\\Users\\Johnny\\Documents\\GitHub\\Titanic\\kaggle_data\\\\\"\n",
    "print (my_project_dir)"
   ]
  },
  {
   "cell_type": "code",
   "execution_count": 142,
   "metadata": {
    "collapsed": false
   },
   "outputs": [
    {
     "name": "stdout",
     "output_type": "stream",
     "text": [
      "['PassengerId', 'Survived', 'Pclass', 'Name', 'Sex', 'Age', 'SibSp', 'Parch', 'Ticket', 'Fare', 'Cabin', 'Embarked']\n",
      "[['1' '0' '3' 'Braund, Mr. Owen Harris' 'male' '22' '1' '0' 'A/5 21171'\n",
      "  '7.25' '' 'S']\n",
      " ['2' '1' '1' 'Cumings, Mrs. John Bradley (Florence Briggs Thayer)'\n",
      "  'female' '38' '1' '0' 'PC 17599' '71.2833' 'C85' 'C']]\n"
     ]
    }
   ],
   "source": [
    "csv_file_object = csv.reader(open(my_project_dir + 'train.csv', 'r'))       # Load in the csv file\n",
    "header = next(csv_file_object)                     # Skip the fist line as it is a header\n",
    "data=[]                                            # Create a variable to hold the data\n",
    "\n",
    "for row in csv_file_object:                        # Skip through each row in the csv file,\n",
    "    data.append(row[0:])                           # adding each row to the data variable\n",
    "    \n",
    "\n",
    "data = np.array(data)                              # importing data as np array\n",
    "print (header[:])\n",
    "print (data[0:2,:])\n"
   ]
  },
  {
   "cell_type": "code",
   "execution_count": 143,
   "metadata": {
    "collapsed": false
   },
   "outputs": [
    {
     "data": {
      "image/png": "[encoded data removed]",
      "text/plain": [
       "<matplotlib.figure.Figure at 0x77e4208>"
      ]
     },
     "metadata": {},
     "output_type": "display_data"
    }
   ],
   "source": [
    "X = data[:,1].astype(np.float)\n",
    "\n",
    "X_weights = np.ones_like(X)/float(len(X))   \n",
    "\n",
    "\n",
    "n, bins, patches = plt.hist(X, 4, weights = X_weights,  facecolor='g', alpha=0.75)\n",
    "plt.title('Number of Survived and dead \\n 1 - survived, 0 - dead')\n",
    "plt.show()\n",
    "\n",
    "#print (n,bins, patches[:])\n",
    "\n"
   ]
  },
  {
   "cell_type": "code",
   "execution_count": 145,
   "metadata": {
    "collapsed": false
   },
   "outputs": [
    {
     "data": {
      "image/png": "[encoded data removed]",
      "text/plain": [
       "<matplotlib.figure.Figure at 0xb3abe80>"
      ]
     },
     "metadata": {},
     "output_type": "display_data"
    }
   ],
   "source": [
    "data = [[np.random.rand(100)] for i in range(3)]\n",
    "pl.boxplot(data)\n",
    "pl.xticks([1, 2, 3], ['mon', 'tue', 'wed'])\n",
    "pl.show()"
   ]
  }
 ],
 "metadata": {
  "kernelspec": {
   "display_name": "Python 3",
   "language": "python",
   "name": "python3"
  },
  "language_info": {
   "codemirror_mode": {
    "name": "ipython",
    "version": 3
   },
   "file_extension": ".py",
   "mimetype": "text/x-python",
   "name": "python",
   "nbconvert_exporter": "python",
   "pygments_lexer": "ipython3",
   "version": "3.4.3"
  }
 },
 "nbformat": 4,
 "nbformat_minor": 0
}
